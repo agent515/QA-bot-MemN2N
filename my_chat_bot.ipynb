{
  "nbformat": 4,
  "nbformat_minor": 0,
  "metadata": {
    "kernelspec": {
      "display_name": "Python 3",
      "language": "python",
      "name": "python3"
    },
    "language_info": {
      "codemirror_mode": {
        "name": "ipython",
        "version": 3
      },
      "file_extension": ".py",
      "mimetype": "text/x-python",
      "name": "python",
      "nbconvert_exporter": "python",
      "pygments_lexer": "ipython3",
      "version": "3.7.5"
    },
    "colab": {
      "name": "my_chat_bot.ipynb",
      "provenance": [],
      "toc_visible": true
    }
  },
  "cells": [
    {
      "cell_type": "code",
      "metadata": {
        "id": "uBMdlM1HE-2C",
        "colab_type": "code",
        "colab": {}
      },
      "source": [
        "import pickle\n",
        "import numpy as np"
      ],
      "execution_count": 1,
      "outputs": []
    },
    {
      "cell_type": "code",
      "metadata": {
        "id": "G3BswgzeE-2F",
        "colab_type": "code",
        "colab": {}
      },
      "source": [
        "with open('single_train_set', 'rb') as f:\n",
        "    train_data = pickle.load(f)"
      ],
      "execution_count": 4,
      "outputs": []
    },
    {
      "cell_type": "code",
      "metadata": {
        "id": "dmBiiMC3E-2H",
        "colab_type": "code",
        "colab": {}
      },
      "source": [
        "with open('single_test_set', 'rb') as f:\n",
        "    test_data = pickle.load(f)"
      ],
      "execution_count": 5,
      "outputs": []
    },
    {
      "cell_type": "code",
      "metadata": {
        "id": "JnsVCJlvE-2J",
        "colab_type": "code",
        "colab": {
          "base_uri": "https://localhost:8080/",
          "height": 1000
        },
        "outputId": "e5228002-3247-4986-e58e-5d0e3fb9e4eb"
      },
      "source": [
        "test_data[0 : 5]"
      ],
      "execution_count": 142,
      "outputs": [
        {
          "output_type": "execute_result",
          "data": {
            "text/plain": [
              "[(['John',\n",
              "   'travelled',\n",
              "   'to',\n",
              "   'the',\n",
              "   'hallway',\n",
              "   '.',\n",
              "   'Mary',\n",
              "   'journeyed',\n",
              "   'to',\n",
              "   'the',\n",
              "   'bathroom',\n",
              "   '.'],\n",
              "  ['Where', 'is', 'John', '?'],\n",
              "  'hallway'),\n",
              " (['Daniel',\n",
              "   'went',\n",
              "   'back',\n",
              "   'to',\n",
              "   'the',\n",
              "   'bathroom',\n",
              "   '.',\n",
              "   'John',\n",
              "   'moved',\n",
              "   'to',\n",
              "   'the',\n",
              "   'bedroom',\n",
              "   '.'],\n",
              "  ['Where', 'is', 'Mary', '?'],\n",
              "  'bathroom'),\n",
              " (['John',\n",
              "   'went',\n",
              "   'to',\n",
              "   'the',\n",
              "   'hallway',\n",
              "   '.',\n",
              "   'Sandra',\n",
              "   'journeyed',\n",
              "   'to',\n",
              "   'the',\n",
              "   'kitchen',\n",
              "   '.'],\n",
              "  ['Where', 'is', 'Sandra', '?'],\n",
              "  'kitchen'),\n",
              " (['Sandra',\n",
              "   'travelled',\n",
              "   'to',\n",
              "   'the',\n",
              "   'hallway',\n",
              "   '.',\n",
              "   'John',\n",
              "   'went',\n",
              "   'to',\n",
              "   'the',\n",
              "   'garden',\n",
              "   '.'],\n",
              "  ['Where', 'is', 'Sandra', '?'],\n",
              "  'hallway'),\n",
              " (['Sandra',\n",
              "   'went',\n",
              "   'back',\n",
              "   'to',\n",
              "   'the',\n",
              "   'bathroom',\n",
              "   '.',\n",
              "   'Sandra',\n",
              "   'moved',\n",
              "   'to',\n",
              "   'the',\n",
              "   'kitchen',\n",
              "   '.'],\n",
              "  ['Where', 'is', 'Sandra', '?'],\n",
              "  'kitchen')]"
            ]
          },
          "metadata": {
            "tags": []
          },
          "execution_count": 142
        }
      ]
    },
    {
      "cell_type": "code",
      "metadata": {
        "id": "gsY2yrOfE-2N",
        "colab_type": "code",
        "colab": {
          "base_uri": "https://localhost:8080/",
          "height": 34
        },
        "outputId": "283ed2cb-fa81-4d83-91aa-1c3904db1fda"
      },
      "source": [
        "len(train_data), len(test_data)"
      ],
      "execution_count": 7,
      "outputs": [
        {
          "output_type": "execute_result",
          "data": {
            "text/plain": [
              "(10000, 1000)"
            ]
          },
          "metadata": {
            "tags": []
          },
          "execution_count": 7
        }
      ]
    },
    {
      "cell_type": "code",
      "metadata": {
        "id": "wIHTNO65E-2P",
        "colab_type": "code",
        "colab": {
          "base_uri": "https://localhost:8080/",
          "height": 35
        },
        "outputId": "dc389cb8-9399-454d-d317-11526f4a7d69"
      },
      "source": [
        "' '.join(train_data[0][0])"
      ],
      "execution_count": 8,
      "outputs": [
        {
          "output_type": "execute_result",
          "data": {
            "application/vnd.google.colaboratory.intrinsic": {
              "type": "string"
            },
            "text/plain": [
              "'Mary moved to the bathroom . John went to the hallway .'"
            ]
          },
          "metadata": {
            "tags": []
          },
          "execution_count": 8
        }
      ]
    },
    {
      "cell_type": "code",
      "metadata": {
        "id": "E6Y9ZoVHE-2R",
        "colab_type": "code",
        "colab": {
          "base_uri": "https://localhost:8080/",
          "height": 35
        },
        "outputId": "f6c88930-abd6-4b26-a96d-2792b06b2357"
      },
      "source": [
        "' '.join(train_data[0][1])"
      ],
      "execution_count": 9,
      "outputs": [
        {
          "output_type": "execute_result",
          "data": {
            "application/vnd.google.colaboratory.intrinsic": {
              "type": "string"
            },
            "text/plain": [
              "'Where is Mary ?'"
            ]
          },
          "metadata": {
            "tags": []
          },
          "execution_count": 9
        }
      ]
    },
    {
      "cell_type": "code",
      "metadata": {
        "id": "onZ67tiJE-2T",
        "colab_type": "code",
        "colab": {
          "base_uri": "https://localhost:8080/",
          "height": 35
        },
        "outputId": "3ef0489e-3338-469c-8308-63aee4c1bebd"
      },
      "source": [
        "train_data[0][2]"
      ],
      "execution_count": 10,
      "outputs": [
        {
          "output_type": "execute_result",
          "data": {
            "application/vnd.google.colaboratory.intrinsic": {
              "type": "string"
            },
            "text/plain": [
              "'bathroom'"
            ]
          },
          "metadata": {
            "tags": []
          },
          "execution_count": 10
        }
      ]
    },
    {
      "cell_type": "code",
      "metadata": {
        "id": "FfSbyLFvE-2V",
        "colab_type": "code",
        "colab": {}
      },
      "source": [
        "all_data = test_data + train_data"
      ],
      "execution_count": 11,
      "outputs": []
    },
    {
      "cell_type": "code",
      "metadata": {
        "id": "TYGQ_oUYE-2X",
        "colab_type": "code",
        "colab": {
          "base_uri": "https://localhost:8080/",
          "height": 34
        },
        "outputId": "5e6704ce-fa15-4d54-e141-c2e69eadaf22"
      },
      "source": [
        "len(all_data)"
      ],
      "execution_count": 12,
      "outputs": [
        {
          "output_type": "execute_result",
          "data": {
            "text/plain": [
              "11000"
            ]
          },
          "metadata": {
            "tags": []
          },
          "execution_count": 12
        }
      ]
    },
    {
      "cell_type": "code",
      "metadata": {
        "id": "eqGDj3vcE-2Z",
        "colab_type": "code",
        "colab": {
          "base_uri": "https://localhost:8080/",
          "height": 34
        },
        "outputId": "61e8fd2d-4d47-4806-d013-98ad2c285a8d"
      },
      "source": [
        "vocab = set()\n",
        "count = 0\n",
        "for story, question, answer in train_data:\n",
        "    if ' ' in story or ' ' in question  or ' ' in answer:\n",
        "        print(story, question, answer)\n",
        "        count += 1\n",
        "    vocab = vocab.union(set(story))\n",
        "    vocab = vocab.union(set(question))\n",
        "#     vocab = vocab.union(set([answer]))\n",
        "len(vocab)\n",
        "print(count)"
      ],
      "execution_count": 13,
      "outputs": [
        {
          "output_type": "stream",
          "text": [
            "0\n"
          ],
          "name": "stdout"
        }
      ]
    },
    {
      "cell_type": "code",
      "metadata": {
        "scrolled": true,
        "id": "eJG_unRfE-2b",
        "colab_type": "code",
        "colab": {
          "base_uri": "https://localhost:8080/",
          "height": 374
        },
        "outputId": "93dfe5a4-c009-4085-819b-3717c5ff8fb2"
      },
      "source": [
        "# vocab = vocab.union(set(['yes', 'no']))\n",
        "vocab"
      ],
      "execution_count": 14,
      "outputs": [
        {
          "output_type": "execute_result",
          "data": {
            "text/plain": [
              "{'.',\n",
              " '?',\n",
              " 'Daniel',\n",
              " 'John',\n",
              " 'Mary',\n",
              " 'Sandra',\n",
              " 'Where',\n",
              " 'back',\n",
              " 'bathroom',\n",
              " 'bedroom',\n",
              " 'garden',\n",
              " 'hallway',\n",
              " 'is',\n",
              " 'journeyed',\n",
              " 'kitchen',\n",
              " 'moved',\n",
              " 'office',\n",
              " 'the',\n",
              " 'to',\n",
              " 'travelled',\n",
              " 'went'}"
            ]
          },
          "metadata": {
            "tags": []
          },
          "execution_count": 14
        }
      ]
    },
    {
      "cell_type": "code",
      "metadata": {
        "id": "VHSsxaKsE-2d",
        "colab_type": "code",
        "colab": {}
      },
      "source": [
        "vocab_len = len(vocab) + 1  #one extra for keras pad-sequences placeholder"
      ],
      "execution_count": 15,
      "outputs": []
    },
    {
      "cell_type": "code",
      "metadata": {
        "id": "3E3XqewME-2f",
        "colab_type": "code",
        "colab": {
          "base_uri": "https://localhost:8080/",
          "height": 34
        },
        "outputId": "d290cbd5-1d55-46d0-8b5a-c1ba73a25801"
      },
      "source": [
        "vocab_len"
      ],
      "execution_count": 16,
      "outputs": [
        {
          "output_type": "execute_result",
          "data": {
            "text/plain": [
              "22"
            ]
          },
          "metadata": {
            "tags": []
          },
          "execution_count": 16
        }
      ]
    },
    {
      "cell_type": "code",
      "metadata": {
        "id": "xQ_63wZNE-2g",
        "colab_type": "code",
        "colab": {}
      },
      "source": [
        "# LONGEST STORY\n",
        "all_story_lengths = [len(data[0]) for data in all_data]\n",
        "\n",
        "# LONGEST QUESTION\n",
        "all_ques_lengths = [len(data[1]) for data in all_data]"
      ],
      "execution_count": 17,
      "outputs": []
    },
    {
      "cell_type": "code",
      "metadata": {
        "id": "7SkKCqMHE-2i",
        "colab_type": "code",
        "colab": {}
      },
      "source": [
        "max_story_len = max(all_story_lengths)"
      ],
      "execution_count": 18,
      "outputs": []
    },
    {
      "cell_type": "code",
      "metadata": {
        "id": "a2XTZp0fE-2k",
        "colab_type": "code",
        "colab": {
          "base_uri": "https://localhost:8080/",
          "height": 34
        },
        "outputId": "4974f0a7-1edb-4b94-d9a4-fff092ee429c"
      },
      "source": [
        "max_story_len"
      ],
      "execution_count": 19,
      "outputs": [
        {
          "output_type": "execute_result",
          "data": {
            "text/plain": [
              "14"
            ]
          },
          "metadata": {
            "tags": []
          },
          "execution_count": 19
        }
      ]
    },
    {
      "cell_type": "code",
      "metadata": {
        "id": "-lsh1Kv7E-2m",
        "colab_type": "code",
        "colab": {}
      },
      "source": [
        "max_ques_len = max(all_ques_lengths)"
      ],
      "execution_count": 20,
      "outputs": []
    },
    {
      "cell_type": "code",
      "metadata": {
        "id": "dRES_wOME-2o",
        "colab_type": "code",
        "colab": {
          "base_uri": "https://localhost:8080/",
          "height": 34
        },
        "outputId": "c9e242f4-9714-4c17-96e7-90e47e4d5945"
      },
      "source": [
        "max_ques_len"
      ],
      "execution_count": 21,
      "outputs": [
        {
          "output_type": "execute_result",
          "data": {
            "text/plain": [
              "4"
            ]
          },
          "metadata": {
            "tags": []
          },
          "execution_count": 21
        }
      ]
    },
    {
      "cell_type": "code",
      "metadata": {
        "id": "rcOiz9OpE-2q",
        "colab_type": "code",
        "colab": {
          "base_uri": "https://localhost:8080/",
          "height": 34
        },
        "outputId": "342611ab-72e6-4018-e849-fb10b7d08692"
      },
      "source": [
        "from keras.preprocessing.sequence import pad_sequences\n",
        "from keras.preprocessing.text import Tokenizer"
      ],
      "execution_count": 22,
      "outputs": [
        {
          "output_type": "stream",
          "text": [
            "Using TensorFlow backend.\n"
          ],
          "name": "stderr"
        }
      ]
    },
    {
      "cell_type": "code",
      "metadata": {
        "id": "iUEtnqlIE-2t",
        "colab_type": "code",
        "colab": {}
      },
      "source": [
        "tokenizer = Tokenizer(filters=[])  # default fiter is not required"
      ],
      "execution_count": 23,
      "outputs": []
    },
    {
      "cell_type": "code",
      "metadata": {
        "id": "TG_1aVznE-2v",
        "colab_type": "code",
        "colab": {}
      },
      "source": [
        "tokenizer.fit_on_texts(vocab)"
      ],
      "execution_count": 24,
      "outputs": []
    },
    {
      "cell_type": "code",
      "metadata": {
        "id": "iM2_UzfDE-2w",
        "colab_type": "code",
        "colab": {
          "base_uri": "https://localhost:8080/",
          "height": 34
        },
        "outputId": "d3c72b9f-24e1-468c-9fc4-a719b860fa2c"
      },
      "source": [
        "tokenizer.texts_to_sequences(all_data[0])"
      ],
      "execution_count": 25,
      "outputs": [
        {
          "output_type": "execute_result",
          "data": {
            "text/plain": [
              "[[3, 18, 14, 13, 21, 15, 8, 19, 14, 13, 1, 15], [16, 12, 3, 10], [21]]"
            ]
          },
          "metadata": {
            "tags": []
          },
          "execution_count": 25
        }
      ]
    },
    {
      "cell_type": "code",
      "metadata": {
        "id": "Z6v3F7IyE-2y",
        "colab_type": "code",
        "colab": {
          "base_uri": "https://localhost:8080/",
          "height": 374
        },
        "outputId": "4e02c8c5-2898-4ecb-d85c-3730ea53fb6b"
      },
      "source": [
        "tokenizer.word_index"
      ],
      "execution_count": 26,
      "outputs": [
        {
          "output_type": "execute_result",
          "data": {
            "text/plain": [
              "{'.': 15,\n",
              " '?': 10,\n",
              " 'back': 2,\n",
              " 'bathroom': 1,\n",
              " 'bedroom': 5,\n",
              " 'daniel': 20,\n",
              " 'garden': 11,\n",
              " 'hallway': 21,\n",
              " 'is': 12,\n",
              " 'john': 3,\n",
              " 'journeyed': 19,\n",
              " 'kitchen': 6,\n",
              " 'mary': 8,\n",
              " 'moved': 9,\n",
              " 'office': 7,\n",
              " 'sandra': 4,\n",
              " 'the': 13,\n",
              " 'to': 14,\n",
              " 'travelled': 18,\n",
              " 'went': 17,\n",
              " 'where': 16}"
            ]
          },
          "metadata": {
            "tags": []
          },
          "execution_count": 26
        }
      ]
    },
    {
      "cell_type": "code",
      "metadata": {
        "id": "7TzWF5wAE-20",
        "colab_type": "code",
        "colab": {}
      },
      "source": [
        "def vectorize_stories(data, word_index=tokenizer.word_index, max_story_len=max_story_len,max_ques_len=max_ques_len):\n",
        "    X = []\n",
        "    Xq = []\n",
        "    Y = []\n",
        "    \n",
        "    for story, question, answer in data:\n",
        "        x = [word_index[word.lower()] for word in story]\n",
        "        xq = [word_index[word.lower()] for word in question]\n",
        "        y = np.zeros(len(word_index) + 1)\n",
        "        \n",
        "        y[word_index[answer]] = 1\n",
        "        \n",
        "        X.append(x)\n",
        "        Xq.append(xq)\n",
        "        Y.append(y)\n",
        "        \n",
        "    return (pad_sequences(X, maxlen=max_story_len), pad_sequences(Xq, maxlen=max_ques_len), np.array(Y))"
      ],
      "execution_count": 27,
      "outputs": []
    },
    {
      "cell_type": "code",
      "metadata": {
        "id": "tOBD7IpjE-22",
        "colab_type": "code",
        "colab": {}
      },
      "source": [
        "inputs_train, queries_train, answers_train = vectorize_stories(train_data)"
      ],
      "execution_count": 28,
      "outputs": []
    },
    {
      "cell_type": "code",
      "metadata": {
        "id": "d871Tf1WE-24",
        "colab_type": "code",
        "colab": {}
      },
      "source": [
        "inputs_test, queries_test, answers_test = vectorize_stories(test_data)"
      ],
      "execution_count": 29,
      "outputs": []
    },
    {
      "cell_type": "code",
      "metadata": {
        "id": "sRfRRCrKE-26",
        "colab_type": "code",
        "colab": {
          "base_uri": "https://localhost:8080/",
          "height": 136
        },
        "outputId": "4fe540fe-e3b7-44aa-b564-356ccb887b1b"
      },
      "source": [
        "inputs_train"
      ],
      "execution_count": 30,
      "outputs": [
        {
          "output_type": "execute_result",
          "data": {
            "text/plain": [
              "array([[ 0,  0,  8, ..., 13, 21, 15],\n",
              "       [ 0, 20, 17, ..., 13, 11, 15],\n",
              "       [ 0,  0,  3, ..., 13,  1, 15],\n",
              "       ...,\n",
              "       [ 4, 17,  2, ..., 13,  6, 15],\n",
              "       [ 0, 20, 17, ..., 13,  1, 15],\n",
              "       [ 0,  3, 17, ..., 13,  5, 15]], dtype=int32)"
            ]
          },
          "metadata": {
            "tags": []
          },
          "execution_count": 30
        }
      ]
    },
    {
      "cell_type": "code",
      "metadata": {
        "id": "VplrV7V3E-27",
        "colab_type": "code",
        "colab": {
          "base_uri": "https://localhost:8080/",
          "height": 68
        },
        "outputId": "fdf0fa83-aedd-475f-c720-b06a83799f2b"
      },
      "source": [
        "sum(answers_test), len(answers_test)"
      ],
      "execution_count": 31,
      "outputs": [
        {
          "output_type": "execute_result",
          "data": {
            "text/plain": [
              "(array([  0., 149.,   0.,   0.,   0., 171., 157., 182.,   0.,   0.,   0.,\n",
              "        187.,   0.,   0.,   0.,   0.,   0.,   0.,   0.,   0.,   0., 154.]),\n",
              " 1000)"
            ]
          },
          "metadata": {
            "tags": []
          },
          "execution_count": 31
        }
      ]
    },
    {
      "cell_type": "code",
      "metadata": {
        "id": "MTAI687vE-29",
        "colab_type": "code",
        "colab": {}
      },
      "source": [
        "from keras.models import Sequential, Model\n",
        "from keras.layers.embeddings import Embedding\n",
        "from keras.layers import Dense, LSTM, Input, Activation, Permute, Dropout, add, dot, concatenate"
      ],
      "execution_count": 32,
      "outputs": []
    },
    {
      "cell_type": "code",
      "metadata": {
        "id": "TDovcEmtE-2-",
        "colab_type": "code",
        "colab": {}
      },
      "source": [
        "# PLCEHOLDER shape=(max_story_len, batch_size)\n",
        "input_sequence = Input((max_story_len, ))\n",
        "question = Input((max_ques_len, ))"
      ],
      "execution_count": 33,
      "outputs": []
    },
    {
      "cell_type": "code",
      "metadata": {
        "id": "vgVvHlMmE-3A",
        "colab_type": "code",
        "colab": {}
      },
      "source": [
        "# SAME AS vocab_len\n",
        "vocab_size = len(vocab) + 1"
      ],
      "execution_count": 34,
      "outputs": []
    },
    {
      "cell_type": "code",
      "metadata": {
        "id": "Xcm32ryjE-3C",
        "colab_type": "code",
        "colab": {
          "base_uri": "https://localhost:8080/",
          "height": 34
        },
        "outputId": "c2e773ea-e9c3-4bf0-ee45-6f10f51ce6b0"
      },
      "source": [
        "vocab_size"
      ],
      "execution_count": 35,
      "outputs": [
        {
          "output_type": "execute_result",
          "data": {
            "text/plain": [
              "22"
            ]
          },
          "metadata": {
            "tags": []
          },
          "execution_count": 35
        }
      ]
    },
    {
      "cell_type": "code",
      "metadata": {
        "id": "Fyk6oLn7E-3D",
        "colab_type": "code",
        "colab": {}
      },
      "source": [
        "# INPUT ENCODER M\n",
        "input_encoder_m = Sequential()\n",
        "input_encoder_m.add(Embedding(input_dim=vocab_size, output_dim=64))\n",
        "input_encoder_m.add(Dropout(0.3))\n",
        "\n",
        "# OUTPUT\n",
        "# (samples, max_len_story, embedding_dim)"
      ],
      "execution_count": 36,
      "outputs": []
    },
    {
      "cell_type": "code",
      "metadata": {
        "id": "WGr4frO9E-3F",
        "colab_type": "code",
        "colab": {}
      },
      "source": [
        "# INPUT ENCODER C\n",
        "input_encoder_c = Sequential()\n",
        "input_encoder_c.add(Embedding(input_dim=vocab_size, output_dim=max_ques_len))\n",
        "input_encoder_m.add(Dropout(0.3))\n",
        "\n",
        "# OUTPUT\n",
        "# (samples, max_len_story, max_ques_len)"
      ],
      "execution_count": 37,
      "outputs": []
    },
    {
      "cell_type": "code",
      "metadata": {
        "id": "FujW9cNHE-3G",
        "colab_type": "code",
        "colab": {}
      },
      "source": [
        "# QUESTION ENCODER\n",
        "question_encoder = Sequential()\n",
        "question_encoder.add(Embedding(input_dim=vocab_size, output_dim=64))\n",
        "question_encoder.add(Dropout(0.3))\n",
        "\n",
        "# OUTPUT\n",
        "# (samples, max_len_story, embedding_dim)"
      ],
      "execution_count": 38,
      "outputs": []
    },
    {
      "cell_type": "code",
      "metadata": {
        "id": "54-9tNFRE-3I",
        "colab_type": "code",
        "colab": {}
      },
      "source": [
        "# ENCODED <--- ENCODER(INPUT)\n",
        "input_encoded_m = input_encoder_m(input_sequence)\n",
        "input_encoded_c = input_encoder_c(input_sequence)\n",
        "question_encoded = question_encoder(question)"
      ],
      "execution_count": 39,
      "outputs": []
    },
    {
      "cell_type": "code",
      "metadata": {
        "id": "bL_MpJ8nE-3K",
        "colab_type": "code",
        "colab": {
          "base_uri": "https://localhost:8080/",
          "height": 68
        },
        "outputId": "36595ce3-8900-4783-84d4-fd9cd18b053a"
      },
      "source": [
        "input_encoded_m, question_encoded, input_encoded_c"
      ],
      "execution_count": 40,
      "outputs": [
        {
          "output_type": "execute_result",
          "data": {
            "text/plain": [
              "(<tf.Tensor 'sequential_1/dropout_2/cond/Identity:0' shape=(None, 14, 64) dtype=float32>,\n",
              " <tf.Tensor 'sequential_3/dropout_3/cond/Identity:0' shape=(None, 4, 64) dtype=float32>,\n",
              " <tf.Tensor 'sequential_2/embedding_2/embedding_lookup/Identity_1:0' shape=(None, 14, 4) dtype=float32>)"
            ]
          },
          "metadata": {
            "tags": []
          },
          "execution_count": 40
        }
      ]
    },
    {
      "cell_type": "code",
      "metadata": {
        "id": "kdIEk16NE-3L",
        "colab_type": "code",
        "colab": {}
      },
      "source": [
        "# calculating match between m (Embedding A) and q (Embedding B)\n",
        "\n",
        "match = dot([input_encoded_m, question_encoded], axes=(2,2))\n",
        "match = Activation('softmax')(match)"
      ],
      "execution_count": 41,
      "outputs": []
    },
    {
      "cell_type": "code",
      "metadata": {
        "id": "GvzseEmSE-3N",
        "colab_type": "code",
        "colab": {
          "base_uri": "https://localhost:8080/",
          "height": 34
        },
        "outputId": "65f8af15-bc75-47b0-d6f8-5343d2006bf6"
      },
      "source": [
        "match"
      ],
      "execution_count": 42,
      "outputs": [
        {
          "output_type": "execute_result",
          "data": {
            "text/plain": [
              "<tf.Tensor 'activation_1/truediv:0' shape=(None, 14, 4) dtype=float32>"
            ]
          },
          "metadata": {
            "tags": []
          },
          "execution_count": 42
        }
      ]
    },
    {
      "cell_type": "code",
      "metadata": {
        "id": "waAVQnDXE-3O",
        "colab_type": "code",
        "colab": {}
      },
      "source": [
        "response = add([input_encoded_c, match])\n",
        "response = Permute((2, 1))(response)"
      ],
      "execution_count": 43,
      "outputs": []
    },
    {
      "cell_type": "code",
      "metadata": {
        "id": "drzF131yE-3Q",
        "colab_type": "code",
        "colab": {
          "base_uri": "https://localhost:8080/",
          "height": 34
        },
        "outputId": "3826a8c0-d7e6-4eac-d3ca-6016e846567e"
      },
      "source": [
        "response"
      ],
      "execution_count": 44,
      "outputs": [
        {
          "output_type": "execute_result",
          "data": {
            "text/plain": [
              "<tf.Tensor 'permute_1/transpose:0' shape=(None, 4, 14) dtype=float32>"
            ]
          },
          "metadata": {
            "tags": []
          },
          "execution_count": 44
        }
      ]
    },
    {
      "cell_type": "code",
      "metadata": {
        "id": "My9mDqhjE-3S",
        "colab_type": "code",
        "colab": {}
      },
      "source": [
        "answer = concatenate([response, question_encoded])"
      ],
      "execution_count": 45,
      "outputs": []
    },
    {
      "cell_type": "code",
      "metadata": {
        "id": "AODd-yalE-3V",
        "colab_type": "code",
        "colab": {
          "base_uri": "https://localhost:8080/",
          "height": 34
        },
        "outputId": "bc5947af-c8f6-470f-b5b0-3f116fd59dc4"
      },
      "source": [
        "answer"
      ],
      "execution_count": 46,
      "outputs": [
        {
          "output_type": "execute_result",
          "data": {
            "text/plain": [
              "<tf.Tensor 'concatenate_1/concat:0' shape=(None, 4, 78) dtype=float32>"
            ]
          },
          "metadata": {
            "tags": []
          },
          "execution_count": 46
        }
      ]
    },
    {
      "cell_type": "code",
      "metadata": {
        "id": "GOipqGJ4E-3Y",
        "colab_type": "code",
        "colab": {}
      },
      "source": [
        "answer = LSTM(32)(answer)"
      ],
      "execution_count": 47,
      "outputs": []
    },
    {
      "cell_type": "code",
      "metadata": {
        "id": "qUv6GWw3E-3Z",
        "colab_type": "code",
        "colab": {}
      },
      "source": [
        "answer = Dropout(0.5)(answer)"
      ],
      "execution_count": 48,
      "outputs": []
    },
    {
      "cell_type": "code",
      "metadata": {
        "id": "2Tma-CipE-3b",
        "colab_type": "code",
        "colab": {}
      },
      "source": [
        "answer = Dense(vocab_size)(answer) # (samples, vocab_size) YES/NO"
      ],
      "execution_count": 49,
      "outputs": []
    },
    {
      "cell_type": "code",
      "metadata": {
        "id": "VR9PGHQVE-3d",
        "colab_type": "code",
        "colab": {
          "base_uri": "https://localhost:8080/",
          "height": 34
        },
        "outputId": "cb4d0ae0-f205-4bda-fc86-743483e56344"
      },
      "source": [
        "answer"
      ],
      "execution_count": 50,
      "outputs": [
        {
          "output_type": "execute_result",
          "data": {
            "text/plain": [
              "<tf.Tensor 'dense_1/BiasAdd:0' shape=(None, 22) dtype=float32>"
            ]
          },
          "metadata": {
            "tags": []
          },
          "execution_count": 50
        }
      ]
    },
    {
      "cell_type": "code",
      "metadata": {
        "id": "UvKAE2ZcE-3f",
        "colab_type": "code",
        "colab": {}
      },
      "source": [
        "answer = Activation('softmax')(answer)"
      ],
      "execution_count": 51,
      "outputs": []
    },
    {
      "cell_type": "code",
      "metadata": {
        "id": "fPhugM8ME-3g",
        "colab_type": "code",
        "colab": {}
      },
      "source": [
        "model = Model([input_sequence, question], answer)"
      ],
      "execution_count": 52,
      "outputs": []
    },
    {
      "cell_type": "code",
      "metadata": {
        "id": "lCqkETeAE-3h",
        "colab_type": "code",
        "colab": {}
      },
      "source": [
        "model.compile(optimizer='rmsprop', loss=\"categorical_crossentropy\", metrics=['accuracy'])"
      ],
      "execution_count": 53,
      "outputs": []
    },
    {
      "cell_type": "code",
      "metadata": {
        "scrolled": true,
        "id": "XV35wFVJE-3j",
        "colab_type": "code",
        "colab": {
          "base_uri": "https://localhost:8080/",
          "height": 680
        },
        "outputId": "57133de5-74a4-4a32-d390-e3c87caaf8ec"
      },
      "source": [
        "model.summary()"
      ],
      "execution_count": 54,
      "outputs": [
        {
          "output_type": "stream",
          "text": [
            "Model: \"model_1\"\n",
            "__________________________________________________________________________________________________\n",
            "Layer (type)                    Output Shape         Param #     Connected to                     \n",
            "==================================================================================================\n",
            "input_1 (InputLayer)            (None, 14)           0                                            \n",
            "__________________________________________________________________________________________________\n",
            "input_2 (InputLayer)            (None, 4)            0                                            \n",
            "__________________________________________________________________________________________________\n",
            "sequential_1 (Sequential)       multiple             1408        input_1[0][0]                    \n",
            "__________________________________________________________________________________________________\n",
            "sequential_3 (Sequential)       multiple             1408        input_2[0][0]                    \n",
            "__________________________________________________________________________________________________\n",
            "dot_1 (Dot)                     (None, 14, 4)        0           sequential_1[1][0]               \n",
            "                                                                 sequential_3[1][0]               \n",
            "__________________________________________________________________________________________________\n",
            "sequential_2 (Sequential)       multiple             88          input_1[0][0]                    \n",
            "__________________________________________________________________________________________________\n",
            "activation_1 (Activation)       (None, 14, 4)        0           dot_1[0][0]                      \n",
            "__________________________________________________________________________________________________\n",
            "add_1 (Add)                     (None, 14, 4)        0           sequential_2[1][0]               \n",
            "                                                                 activation_1[0][0]               \n",
            "__________________________________________________________________________________________________\n",
            "permute_1 (Permute)             (None, 4, 14)        0           add_1[0][0]                      \n",
            "__________________________________________________________________________________________________\n",
            "concatenate_1 (Concatenate)     (None, 4, 78)        0           permute_1[0][0]                  \n",
            "                                                                 sequential_3[1][0]               \n",
            "__________________________________________________________________________________________________\n",
            "lstm_1 (LSTM)                   (None, 32)           14208       concatenate_1[0][0]              \n",
            "__________________________________________________________________________________________________\n",
            "dropout_4 (Dropout)             (None, 32)           0           lstm_1[0][0]                     \n",
            "__________________________________________________________________________________________________\n",
            "dense_1 (Dense)                 (None, 22)           726         dropout_4[0][0]                  \n",
            "__________________________________________________________________________________________________\n",
            "activation_2 (Activation)       (None, 22)           0           dense_1[0][0]                    \n",
            "==================================================================================================\n",
            "Total params: 17,838\n",
            "Trainable params: 17,838\n",
            "Non-trainable params: 0\n",
            "__________________________________________________________________________________________________\n"
          ],
          "name": "stdout"
        }
      ]
    },
    {
      "cell_type": "code",
      "metadata": {
        "id": "bAebOBNNE-3l",
        "colab_type": "code",
        "colab": {
          "base_uri": "https://localhost:8080/",
          "height": 1000
        },
        "outputId": "4a5d89e5-d36f-4acc-e397-5bf2bc9b20de"
      },
      "source": [
        "history = model.fit([inputs_train, queries_train], answers_train, batch_size=32, epochs=150, validation_data=([inputs_test, queries_test], answers_test))"
      ],
      "execution_count": 55,
      "outputs": [
        {
          "output_type": "stream",
          "text": [
            "/usr/local/lib/python3.6/dist-packages/tensorflow/python/framework/indexed_slices.py:434: UserWarning: Converting sparse IndexedSlices to a dense Tensor of unknown shape. This may consume a large amount of memory.\n",
            "  \"Converting sparse IndexedSlices to a dense Tensor of unknown shape. \"\n"
          ],
          "name": "stderr"
        },
        {
          "output_type": "stream",
          "text": [
            "Train on 10000 samples, validate on 1000 samples\n",
            "Epoch 1/150\n",
            "10000/10000 [==============================] - 2s 207us/step - loss: 2.0019 - accuracy: 0.1776 - val_loss: 1.7697 - val_accuracy: 0.2520\n",
            "Epoch 2/150\n",
            "10000/10000 [==============================] - 1s 136us/step - loss: 1.7269 - accuracy: 0.2309 - val_loss: 1.6643 - val_accuracy: 0.2540\n",
            "Epoch 3/150\n",
            "10000/10000 [==============================] - 1s 137us/step - loss: 1.6533 - accuracy: 0.2933 - val_loss: 1.6027 - val_accuracy: 0.3560\n",
            "Epoch 4/150\n",
            "10000/10000 [==============================] - 1s 135us/step - loss: 1.5603 - accuracy: 0.3853 - val_loss: 1.5106 - val_accuracy: 0.3990\n",
            "Epoch 5/150\n",
            "10000/10000 [==============================] - 1s 136us/step - loss: 1.5225 - accuracy: 0.4069 - val_loss: 1.4946 - val_accuracy: 0.4000\n",
            "Epoch 6/150\n",
            "10000/10000 [==============================] - 1s 138us/step - loss: 1.5081 - accuracy: 0.4114 - val_loss: 1.5095 - val_accuracy: 0.4160\n",
            "Epoch 7/150\n",
            "10000/10000 [==============================] - 1s 136us/step - loss: 1.4954 - accuracy: 0.4302 - val_loss: 1.4878 - val_accuracy: 0.4270\n",
            "Epoch 8/150\n",
            "10000/10000 [==============================] - 1s 134us/step - loss: 1.4878 - accuracy: 0.4317 - val_loss: 1.4735 - val_accuracy: 0.4260\n",
            "Epoch 9/150\n",
            "10000/10000 [==============================] - 1s 135us/step - loss: 1.4724 - accuracy: 0.4472 - val_loss: 1.4632 - val_accuracy: 0.4560\n",
            "Epoch 10/150\n",
            "10000/10000 [==============================] - 1s 134us/step - loss: 1.4518 - accuracy: 0.4722 - val_loss: 1.4425 - val_accuracy: 0.4620\n",
            "Epoch 11/150\n",
            "10000/10000 [==============================] - 1s 137us/step - loss: 1.4294 - accuracy: 0.4977 - val_loss: 1.3998 - val_accuracy: 0.5280\n",
            "Epoch 12/150\n",
            "10000/10000 [==============================] - 1s 135us/step - loss: 1.4120 - accuracy: 0.5144 - val_loss: 1.3735 - val_accuracy: 0.5270\n",
            "Epoch 13/150\n",
            "10000/10000 [==============================] - 1s 135us/step - loss: 1.3921 - accuracy: 0.5197 - val_loss: 1.3574 - val_accuracy: 0.5270\n",
            "Epoch 14/150\n",
            "10000/10000 [==============================] - 1s 142us/step - loss: 1.3838 - accuracy: 0.5125 - val_loss: 1.3454 - val_accuracy: 0.5280\n",
            "Epoch 15/150\n",
            "10000/10000 [==============================] - 1s 137us/step - loss: 1.3668 - accuracy: 0.5162 - val_loss: 1.3319 - val_accuracy: 0.5160\n",
            "Epoch 16/150\n",
            "10000/10000 [==============================] - 1s 134us/step - loss: 1.3447 - accuracy: 0.5236 - val_loss: 1.3225 - val_accuracy: 0.5270\n",
            "Epoch 17/150\n",
            "10000/10000 [==============================] - 1s 134us/step - loss: 1.3505 - accuracy: 0.5179 - val_loss: 1.3196 - val_accuracy: 0.5090\n",
            "Epoch 18/150\n",
            "10000/10000 [==============================] - 1s 137us/step - loss: 1.3326 - accuracy: 0.5204 - val_loss: 1.3112 - val_accuracy: 0.5150\n",
            "Epoch 19/150\n",
            "10000/10000 [==============================] - 1s 134us/step - loss: 1.3232 - accuracy: 0.5206 - val_loss: 1.3068 - val_accuracy: 0.5260\n",
            "Epoch 20/150\n",
            "10000/10000 [==============================] - 1s 139us/step - loss: 1.3294 - accuracy: 0.5135 - val_loss: 1.2951 - val_accuracy: 0.5250\n",
            "Epoch 21/150\n",
            "10000/10000 [==============================] - 1s 137us/step - loss: 1.3227 - accuracy: 0.5177 - val_loss: 1.2909 - val_accuracy: 0.5120\n",
            "Epoch 22/150\n",
            "10000/10000 [==============================] - 1s 137us/step - loss: 1.3092 - accuracy: 0.5155 - val_loss: 1.2822 - val_accuracy: 0.5270\n",
            "Epoch 23/150\n",
            "10000/10000 [==============================] - 1s 136us/step - loss: 1.3044 - accuracy: 0.5203 - val_loss: 1.2855 - val_accuracy: 0.5070\n",
            "Epoch 24/150\n",
            "10000/10000 [==============================] - 1s 136us/step - loss: 1.2963 - accuracy: 0.5217 - val_loss: 1.2824 - val_accuracy: 0.5160\n",
            "Epoch 25/150\n",
            "10000/10000 [==============================] - 1s 135us/step - loss: 1.2952 - accuracy: 0.5161 - val_loss: 1.2965 - val_accuracy: 0.5040\n",
            "Epoch 26/150\n",
            "10000/10000 [==============================] - 1s 134us/step - loss: 1.2955 - accuracy: 0.5209 - val_loss: 1.2784 - val_accuracy: 0.5180\n",
            "Epoch 27/150\n",
            "10000/10000 [==============================] - 1s 137us/step - loss: 1.2812 - accuracy: 0.5199 - val_loss: 1.2612 - val_accuracy: 0.5290\n",
            "Epoch 28/150\n",
            "10000/10000 [==============================] - 1s 134us/step - loss: 1.2757 - accuracy: 0.5300 - val_loss: 1.2505 - val_accuracy: 0.5450\n",
            "Epoch 29/150\n",
            "10000/10000 [==============================] - 1s 138us/step - loss: 1.2421 - accuracy: 0.5562 - val_loss: 1.2044 - val_accuracy: 0.5800\n",
            "Epoch 30/150\n",
            "10000/10000 [==============================] - 1s 137us/step - loss: 1.1858 - accuracy: 0.5924 - val_loss: 1.1156 - val_accuracy: 0.6240\n",
            "Epoch 31/150\n",
            "10000/10000 [==============================] - 1s 136us/step - loss: 1.0923 - accuracy: 0.6475 - val_loss: 0.9732 - val_accuracy: 0.6880\n",
            "Epoch 32/150\n",
            "10000/10000 [==============================] - 1s 136us/step - loss: 0.9843 - accuracy: 0.6986 - val_loss: 0.8752 - val_accuracy: 0.7270\n",
            "Epoch 33/150\n",
            "10000/10000 [==============================] - 1s 137us/step - loss: 0.8883 - accuracy: 0.7336 - val_loss: 0.8111 - val_accuracy: 0.7540\n",
            "Epoch 34/150\n",
            "10000/10000 [==============================] - 1s 137us/step - loss: 0.8234 - accuracy: 0.7487 - val_loss: 0.7531 - val_accuracy: 0.7550\n",
            "Epoch 35/150\n",
            "10000/10000 [==============================] - 1s 135us/step - loss: 0.7630 - accuracy: 0.7621 - val_loss: 0.6811 - val_accuracy: 0.7550\n",
            "Epoch 36/150\n",
            "10000/10000 [==============================] - 1s 138us/step - loss: 0.6897 - accuracy: 0.7634 - val_loss: 0.6173 - val_accuracy: 0.7590\n",
            "Epoch 37/150\n",
            "10000/10000 [==============================] - 1s 139us/step - loss: 0.6222 - accuracy: 0.7722 - val_loss: 0.5731 - val_accuracy: 0.7560\n",
            "Epoch 38/150\n",
            "10000/10000 [==============================] - 1s 135us/step - loss: 0.5734 - accuracy: 0.7730 - val_loss: 0.5468 - val_accuracy: 0.7530\n",
            "Epoch 39/150\n",
            "10000/10000 [==============================] - 1s 136us/step - loss: 0.5420 - accuracy: 0.7794 - val_loss: 0.5360 - val_accuracy: 0.7620\n",
            "Epoch 40/150\n",
            "10000/10000 [==============================] - 1s 134us/step - loss: 0.5191 - accuracy: 0.7783 - val_loss: 0.5318 - val_accuracy: 0.7540\n",
            "Epoch 41/150\n",
            "10000/10000 [==============================] - 1s 136us/step - loss: 0.5096 - accuracy: 0.7799 - val_loss: 0.5299 - val_accuracy: 0.7530\n",
            "Epoch 42/150\n",
            "10000/10000 [==============================] - 1s 135us/step - loss: 0.5087 - accuracy: 0.7782 - val_loss: 0.5279 - val_accuracy: 0.7500\n",
            "Epoch 43/150\n",
            "10000/10000 [==============================] - 1s 137us/step - loss: 0.4950 - accuracy: 0.7803 - val_loss: 0.5278 - val_accuracy: 0.7440\n",
            "Epoch 44/150\n",
            "10000/10000 [==============================] - 1s 136us/step - loss: 0.4974 - accuracy: 0.7831 - val_loss: 0.5256 - val_accuracy: 0.7530\n",
            "Epoch 45/150\n",
            "10000/10000 [==============================] - 1s 136us/step - loss: 0.4927 - accuracy: 0.7833 - val_loss: 0.5247 - val_accuracy: 0.7450\n",
            "Epoch 46/150\n",
            "10000/10000 [==============================] - 1s 137us/step - loss: 0.4844 - accuracy: 0.7895 - val_loss: 0.5249 - val_accuracy: 0.7490\n",
            "Epoch 47/150\n",
            "10000/10000 [==============================] - 1s 137us/step - loss: 0.4796 - accuracy: 0.7880 - val_loss: 0.5250 - val_accuracy: 0.7490\n",
            "Epoch 48/150\n",
            "10000/10000 [==============================] - 1s 135us/step - loss: 0.4851 - accuracy: 0.7864 - val_loss: 0.5259 - val_accuracy: 0.7480\n",
            "Epoch 49/150\n",
            "10000/10000 [==============================] - 1s 136us/step - loss: 0.4811 - accuracy: 0.7902 - val_loss: 0.5241 - val_accuracy: 0.7460\n",
            "Epoch 50/150\n",
            "10000/10000 [==============================] - 1s 136us/step - loss: 0.4803 - accuracy: 0.7865 - val_loss: 0.5241 - val_accuracy: 0.7460\n",
            "Epoch 51/150\n",
            "10000/10000 [==============================] - 1s 135us/step - loss: 0.4805 - accuracy: 0.7861 - val_loss: 0.5241 - val_accuracy: 0.7500\n",
            "Epoch 52/150\n",
            "10000/10000 [==============================] - 1s 137us/step - loss: 0.4802 - accuracy: 0.7839 - val_loss: 0.5235 - val_accuracy: 0.7530\n",
            "Epoch 53/150\n",
            "10000/10000 [==============================] - 1s 139us/step - loss: 0.4863 - accuracy: 0.7881 - val_loss: 0.5247 - val_accuracy: 0.7390\n",
            "Epoch 54/150\n",
            "10000/10000 [==============================] - 1s 136us/step - loss: 0.4788 - accuracy: 0.7874 - val_loss: 0.5244 - val_accuracy: 0.7420\n",
            "Epoch 55/150\n",
            "10000/10000 [==============================] - 1s 137us/step - loss: 0.4825 - accuracy: 0.7908 - val_loss: 0.5235 - val_accuracy: 0.7510\n",
            "Epoch 56/150\n",
            "10000/10000 [==============================] - 1s 136us/step - loss: 0.4766 - accuracy: 0.7913 - val_loss: 0.5228 - val_accuracy: 0.7530\n",
            "Epoch 57/150\n",
            "10000/10000 [==============================] - 1s 136us/step - loss: 0.4792 - accuracy: 0.7900 - val_loss: 0.5230 - val_accuracy: 0.7560\n",
            "Epoch 58/150\n",
            "10000/10000 [==============================] - 1s 137us/step - loss: 0.4782 - accuracy: 0.7875 - val_loss: 0.5236 - val_accuracy: 0.7540\n",
            "Epoch 59/150\n",
            "10000/10000 [==============================] - 1s 138us/step - loss: 0.4779 - accuracy: 0.7884 - val_loss: 0.5245 - val_accuracy: 0.7490\n",
            "Epoch 60/150\n",
            "10000/10000 [==============================] - 1s 136us/step - loss: 0.4809 - accuracy: 0.7875 - val_loss: 0.5242 - val_accuracy: 0.7460\n",
            "Epoch 61/150\n",
            "10000/10000 [==============================] - 1s 139us/step - loss: 0.4810 - accuracy: 0.7849 - val_loss: 0.5233 - val_accuracy: 0.7510\n",
            "Epoch 62/150\n",
            "10000/10000 [==============================] - 1s 135us/step - loss: 0.4761 - accuracy: 0.7927 - val_loss: 0.5272 - val_accuracy: 0.7560\n",
            "Epoch 63/150\n",
            "10000/10000 [==============================] - 1s 136us/step - loss: 0.4795 - accuracy: 0.7912 - val_loss: 0.5245 - val_accuracy: 0.7510\n",
            "Epoch 64/150\n",
            "10000/10000 [==============================] - 1s 138us/step - loss: 0.4748 - accuracy: 0.7939 - val_loss: 0.5249 - val_accuracy: 0.7500\n",
            "Epoch 65/150\n",
            "10000/10000 [==============================] - 1s 135us/step - loss: 0.4760 - accuracy: 0.7914 - val_loss: 0.5230 - val_accuracy: 0.7550\n",
            "Epoch 66/150\n",
            "10000/10000 [==============================] - 1s 137us/step - loss: 0.4746 - accuracy: 0.7902 - val_loss: 0.5220 - val_accuracy: 0.7570\n",
            "Epoch 67/150\n",
            "10000/10000 [==============================] - 1s 136us/step - loss: 0.4806 - accuracy: 0.7904 - val_loss: 0.5242 - val_accuracy: 0.7550\n",
            "Epoch 68/150\n",
            "10000/10000 [==============================] - 1s 136us/step - loss: 0.4756 - accuracy: 0.7926 - val_loss: 0.5247 - val_accuracy: 0.7470\n",
            "Epoch 69/150\n",
            "10000/10000 [==============================] - 1s 137us/step - loss: 0.4691 - accuracy: 0.7924 - val_loss: 0.5232 - val_accuracy: 0.7590\n",
            "Epoch 70/150\n",
            "10000/10000 [==============================] - 1s 135us/step - loss: 0.4748 - accuracy: 0.7924 - val_loss: 0.5237 - val_accuracy: 0.7530\n",
            "Epoch 71/150\n",
            "10000/10000 [==============================] - 1s 138us/step - loss: 0.4673 - accuracy: 0.7940 - val_loss: 0.5244 - val_accuracy: 0.7530\n",
            "Epoch 72/150\n",
            "10000/10000 [==============================] - 1s 137us/step - loss: 0.4721 - accuracy: 0.7941 - val_loss: 0.5250 - val_accuracy: 0.7510\n",
            "Epoch 73/150\n",
            "10000/10000 [==============================] - 1s 134us/step - loss: 0.4762 - accuracy: 0.7920 - val_loss: 0.5255 - val_accuracy: 0.7500\n",
            "Epoch 74/150\n",
            "10000/10000 [==============================] - 1s 134us/step - loss: 0.4706 - accuracy: 0.7946 - val_loss: 0.5271 - val_accuracy: 0.7580\n",
            "Epoch 75/150\n",
            "10000/10000 [==============================] - 1s 134us/step - loss: 0.4815 - accuracy: 0.7917 - val_loss: 0.5241 - val_accuracy: 0.7540\n",
            "Epoch 76/150\n",
            "10000/10000 [==============================] - 1s 135us/step - loss: 0.4724 - accuracy: 0.7950 - val_loss: 0.5245 - val_accuracy: 0.7520\n",
            "Epoch 77/150\n",
            "10000/10000 [==============================] - 1s 137us/step - loss: 0.4721 - accuracy: 0.7914 - val_loss: 0.5259 - val_accuracy: 0.7570\n",
            "Epoch 78/150\n",
            "10000/10000 [==============================] - 1s 136us/step - loss: 0.4719 - accuracy: 0.7947 - val_loss: 0.5253 - val_accuracy: 0.7570\n",
            "Epoch 79/150\n",
            "10000/10000 [==============================] - 1s 135us/step - loss: 0.4774 - accuracy: 0.7938 - val_loss: 0.5263 - val_accuracy: 0.7520\n",
            "Epoch 80/150\n",
            "10000/10000 [==============================] - 1s 134us/step - loss: 0.4733 - accuracy: 0.7916 - val_loss: 0.5258 - val_accuracy: 0.7580\n",
            "Epoch 81/150\n",
            "10000/10000 [==============================] - 1s 134us/step - loss: 0.4677 - accuracy: 0.7975 - val_loss: 0.5263 - val_accuracy: 0.7550\n",
            "Epoch 82/150\n",
            "10000/10000 [==============================] - 1s 135us/step - loss: 0.4746 - accuracy: 0.7966 - val_loss: 0.5269 - val_accuracy: 0.7560\n",
            "Epoch 83/150\n",
            "10000/10000 [==============================] - 1s 135us/step - loss: 0.4716 - accuracy: 0.7929 - val_loss: 0.5286 - val_accuracy: 0.7500\n",
            "Epoch 84/150\n",
            "10000/10000 [==============================] - 1s 136us/step - loss: 0.4703 - accuracy: 0.7960 - val_loss: 0.5276 - val_accuracy: 0.7540\n",
            "Epoch 85/150\n",
            "10000/10000 [==============================] - 1s 135us/step - loss: 0.4712 - accuracy: 0.7974 - val_loss: 0.5288 - val_accuracy: 0.7570\n",
            "Epoch 86/150\n",
            "10000/10000 [==============================] - 1s 133us/step - loss: 0.4740 - accuracy: 0.7968 - val_loss: 0.5252 - val_accuracy: 0.7600\n",
            "Epoch 87/150\n",
            "10000/10000 [==============================] - 1s 136us/step - loss: 0.4736 - accuracy: 0.7950 - val_loss: 0.5257 - val_accuracy: 0.7540\n",
            "Epoch 88/150\n",
            "10000/10000 [==============================] - 1s 133us/step - loss: 0.4685 - accuracy: 0.7973 - val_loss: 0.5299 - val_accuracy: 0.7520\n",
            "Epoch 89/150\n",
            "10000/10000 [==============================] - 1s 134us/step - loss: 0.4756 - accuracy: 0.7957 - val_loss: 0.5260 - val_accuracy: 0.7540\n",
            "Epoch 90/150\n",
            "10000/10000 [==============================] - 1s 137us/step - loss: 0.4693 - accuracy: 0.7983 - val_loss: 0.5254 - val_accuracy: 0.7530\n",
            "Epoch 91/150\n",
            "10000/10000 [==============================] - 1s 135us/step - loss: 0.4736 - accuracy: 0.7987 - val_loss: 0.5263 - val_accuracy: 0.7550\n",
            "Epoch 92/150\n",
            "10000/10000 [==============================] - 1s 138us/step - loss: 0.4714 - accuracy: 0.7991 - val_loss: 0.5316 - val_accuracy: 0.7510\n",
            "Epoch 93/150\n",
            "10000/10000 [==============================] - 1s 138us/step - loss: 0.4727 - accuracy: 0.7979 - val_loss: 0.5275 - val_accuracy: 0.7560\n",
            "Epoch 94/150\n",
            "10000/10000 [==============================] - 1s 138us/step - loss: 0.4683 - accuracy: 0.7973 - val_loss: 0.5300 - val_accuracy: 0.7500\n",
            "Epoch 95/150\n",
            "10000/10000 [==============================] - 1s 136us/step - loss: 0.4694 - accuracy: 0.7938 - val_loss: 0.5283 - val_accuracy: 0.7530\n",
            "Epoch 96/150\n",
            "10000/10000 [==============================] - 1s 140us/step - loss: 0.4754 - accuracy: 0.8018 - val_loss: 0.5283 - val_accuracy: 0.7510\n",
            "Epoch 97/150\n",
            "10000/10000 [==============================] - 1s 142us/step - loss: 0.4715 - accuracy: 0.8008 - val_loss: 0.5297 - val_accuracy: 0.7540\n",
            "Epoch 98/150\n",
            "10000/10000 [==============================] - 1s 135us/step - loss: 0.4663 - accuracy: 0.7987 - val_loss: 0.5272 - val_accuracy: 0.7560\n",
            "Epoch 99/150\n",
            "10000/10000 [==============================] - 1s 136us/step - loss: 0.4690 - accuracy: 0.7995 - val_loss: 0.5298 - val_accuracy: 0.7570\n",
            "Epoch 100/150\n",
            "10000/10000 [==============================] - 1s 139us/step - loss: 0.4726 - accuracy: 0.8003 - val_loss: 0.5328 - val_accuracy: 0.7570\n",
            "Epoch 101/150\n",
            "10000/10000 [==============================] - 1s 136us/step - loss: 0.4665 - accuracy: 0.7990 - val_loss: 0.5279 - val_accuracy: 0.7570\n",
            "Epoch 102/150\n",
            "10000/10000 [==============================] - 1s 138us/step - loss: 0.4693 - accuracy: 0.7958 - val_loss: 0.5288 - val_accuracy: 0.7570\n",
            "Epoch 103/150\n",
            "10000/10000 [==============================] - 1s 140us/step - loss: 0.4690 - accuracy: 0.7967 - val_loss: 0.5296 - val_accuracy: 0.7540\n",
            "Epoch 104/150\n",
            "10000/10000 [==============================] - 1s 138us/step - loss: 0.4652 - accuracy: 0.8012 - val_loss: 0.5311 - val_accuracy: 0.7580\n",
            "Epoch 105/150\n",
            "10000/10000 [==============================] - 1s 138us/step - loss: 0.4616 - accuracy: 0.8035 - val_loss: 0.5365 - val_accuracy: 0.7550\n",
            "Epoch 106/150\n",
            "10000/10000 [==============================] - 1s 134us/step - loss: 0.4647 - accuracy: 0.7996 - val_loss: 0.5317 - val_accuracy: 0.7600\n",
            "Epoch 107/150\n",
            "10000/10000 [==============================] - 1s 137us/step - loss: 0.4661 - accuracy: 0.7990 - val_loss: 0.5289 - val_accuracy: 0.7560\n",
            "Epoch 108/150\n",
            "10000/10000 [==============================] - 1s 135us/step - loss: 0.4672 - accuracy: 0.8034 - val_loss: 0.5354 - val_accuracy: 0.7590\n",
            "Epoch 109/150\n",
            "10000/10000 [==============================] - 1s 135us/step - loss: 0.4655 - accuracy: 0.8008 - val_loss: 0.5294 - val_accuracy: 0.7560\n",
            "Epoch 110/150\n",
            "10000/10000 [==============================] - 1s 136us/step - loss: 0.4683 - accuracy: 0.8007 - val_loss: 0.5282 - val_accuracy: 0.7600\n",
            "Epoch 111/150\n",
            "10000/10000 [==============================] - 1s 135us/step - loss: 0.4655 - accuracy: 0.8035 - val_loss: 0.5298 - val_accuracy: 0.7570\n",
            "Epoch 112/150\n",
            "10000/10000 [==============================] - 1s 133us/step - loss: 0.4625 - accuracy: 0.8024 - val_loss: 0.5307 - val_accuracy: 0.7590\n",
            "Epoch 113/150\n",
            "10000/10000 [==============================] - 1s 136us/step - loss: 0.4640 - accuracy: 0.7992 - val_loss: 0.5375 - val_accuracy: 0.7560\n",
            "Epoch 114/150\n",
            "10000/10000 [==============================] - 1s 135us/step - loss: 0.4720 - accuracy: 0.8026 - val_loss: 0.5328 - val_accuracy: 0.7540\n",
            "Epoch 115/150\n",
            "10000/10000 [==============================] - 1s 137us/step - loss: 0.4669 - accuracy: 0.8025 - val_loss: 0.5296 - val_accuracy: 0.7560\n",
            "Epoch 116/150\n",
            "10000/10000 [==============================] - 1s 138us/step - loss: 0.4679 - accuracy: 0.8035 - val_loss: 0.5300 - val_accuracy: 0.7490\n",
            "Epoch 117/150\n",
            "10000/10000 [==============================] - 1s 135us/step - loss: 0.4637 - accuracy: 0.8029 - val_loss: 0.5349 - val_accuracy: 0.7550\n",
            "Epoch 118/150\n",
            "10000/10000 [==============================] - 1s 136us/step - loss: 0.4689 - accuracy: 0.8008 - val_loss: 0.5329 - val_accuracy: 0.7530\n",
            "Epoch 119/150\n",
            "10000/10000 [==============================] - 1s 141us/step - loss: 0.4645 - accuracy: 0.8064 - val_loss: 0.5371 - val_accuracy: 0.7490\n",
            "Epoch 120/150\n",
            "10000/10000 [==============================] - 1s 141us/step - loss: 0.4628 - accuracy: 0.8037 - val_loss: 0.5345 - val_accuracy: 0.7570\n",
            "Epoch 121/150\n",
            "10000/10000 [==============================] - 1s 140us/step - loss: 0.4620 - accuracy: 0.8034 - val_loss: 0.5345 - val_accuracy: 0.7580\n",
            "Epoch 122/150\n",
            "10000/10000 [==============================] - 1s 143us/step - loss: 0.4680 - accuracy: 0.8049 - val_loss: 0.5368 - val_accuracy: 0.7570\n",
            "Epoch 123/150\n",
            "10000/10000 [==============================] - 1s 147us/step - loss: 0.4628 - accuracy: 0.8039 - val_loss: 0.5363 - val_accuracy: 0.7520\n",
            "Epoch 124/150\n",
            "10000/10000 [==============================] - 1s 144us/step - loss: 0.4624 - accuracy: 0.8039 - val_loss: 0.5396 - val_accuracy: 0.7620\n",
            "Epoch 125/150\n",
            "10000/10000 [==============================] - 1s 143us/step - loss: 0.4576 - accuracy: 0.8087 - val_loss: 0.5373 - val_accuracy: 0.7500\n",
            "Epoch 126/150\n",
            "10000/10000 [==============================] - 1s 141us/step - loss: 0.4576 - accuracy: 0.8058 - val_loss: 0.5365 - val_accuracy: 0.7500\n",
            "Epoch 127/150\n",
            "10000/10000 [==============================] - 1s 138us/step - loss: 0.4619 - accuracy: 0.8062 - val_loss: 0.5367 - val_accuracy: 0.7510\n",
            "Epoch 128/150\n",
            "10000/10000 [==============================] - 1s 139us/step - loss: 0.4628 - accuracy: 0.8009 - val_loss: 0.5323 - val_accuracy: 0.7470\n",
            "Epoch 129/150\n",
            "10000/10000 [==============================] - 1s 139us/step - loss: 0.4676 - accuracy: 0.8039 - val_loss: 0.5372 - val_accuracy: 0.7530\n",
            "Epoch 130/150\n",
            "10000/10000 [==============================] - 1s 141us/step - loss: 0.4646 - accuracy: 0.8063 - val_loss: 0.5369 - val_accuracy: 0.7540\n",
            "Epoch 131/150\n",
            "10000/10000 [==============================] - 1s 138us/step - loss: 0.4611 - accuracy: 0.8067 - val_loss: 0.5357 - val_accuracy: 0.7550\n",
            "Epoch 132/150\n",
            "10000/10000 [==============================] - 1s 137us/step - loss: 0.4628 - accuracy: 0.8056 - val_loss: 0.5344 - val_accuracy: 0.7550\n",
            "Epoch 133/150\n",
            "10000/10000 [==============================] - 1s 137us/step - loss: 0.4528 - accuracy: 0.8050 - val_loss: 0.5416 - val_accuracy: 0.7510\n",
            "Epoch 134/150\n",
            "10000/10000 [==============================] - 1s 138us/step - loss: 0.4542 - accuracy: 0.8083 - val_loss: 0.5372 - val_accuracy: 0.7520\n",
            "Epoch 135/150\n",
            "10000/10000 [==============================] - 1s 138us/step - loss: 0.4559 - accuracy: 0.8055 - val_loss: 0.5383 - val_accuracy: 0.7500\n",
            "Epoch 136/150\n",
            "10000/10000 [==============================] - 1s 137us/step - loss: 0.4641 - accuracy: 0.8060 - val_loss: 0.5390 - val_accuracy: 0.7520\n",
            "Epoch 137/150\n",
            "10000/10000 [==============================] - 1s 140us/step - loss: 0.4608 - accuracy: 0.8050 - val_loss: 0.5402 - val_accuracy: 0.7570\n",
            "Epoch 138/150\n",
            "10000/10000 [==============================] - 1s 140us/step - loss: 0.4578 - accuracy: 0.8038 - val_loss: 0.5575 - val_accuracy: 0.7470\n",
            "Epoch 139/150\n",
            "10000/10000 [==============================] - 1s 140us/step - loss: 0.4615 - accuracy: 0.8056 - val_loss: 0.5398 - val_accuracy: 0.7470\n",
            "Epoch 140/150\n",
            "10000/10000 [==============================] - 1s 137us/step - loss: 0.4577 - accuracy: 0.8027 - val_loss: 0.5404 - val_accuracy: 0.7580\n",
            "Epoch 141/150\n",
            "10000/10000 [==============================] - 1s 138us/step - loss: 0.4583 - accuracy: 0.8070 - val_loss: 0.5417 - val_accuracy: 0.7510\n",
            "Epoch 142/150\n",
            "10000/10000 [==============================] - 1s 137us/step - loss: 0.4589 - accuracy: 0.8095 - val_loss: 0.5490 - val_accuracy: 0.7530\n",
            "Epoch 143/150\n",
            "10000/10000 [==============================] - 1s 137us/step - loss: 0.4585 - accuracy: 0.8061 - val_loss: 0.5422 - val_accuracy: 0.7500\n",
            "Epoch 144/150\n",
            "10000/10000 [==============================] - 1s 138us/step - loss: 0.4546 - accuracy: 0.8088 - val_loss: 0.5443 - val_accuracy: 0.7510\n",
            "Epoch 145/150\n",
            "10000/10000 [==============================] - 1s 138us/step - loss: 0.4567 - accuracy: 0.8067 - val_loss: 0.5374 - val_accuracy: 0.7550\n",
            "Epoch 146/150\n",
            "10000/10000 [==============================] - 1s 140us/step - loss: 0.4559 - accuracy: 0.8075 - val_loss: 0.5521 - val_accuracy: 0.7480\n",
            "Epoch 147/150\n",
            "10000/10000 [==============================] - 1s 140us/step - loss: 0.4559 - accuracy: 0.8077 - val_loss: 0.5444 - val_accuracy: 0.7490\n",
            "Epoch 148/150\n",
            "10000/10000 [==============================] - 1s 138us/step - loss: 0.4562 - accuracy: 0.8099 - val_loss: 0.5384 - val_accuracy: 0.7570\n",
            "Epoch 149/150\n",
            "10000/10000 [==============================] - 1s 138us/step - loss: 0.4544 - accuracy: 0.8077 - val_loss: 0.5418 - val_accuracy: 0.7520\n",
            "Epoch 150/150\n",
            "10000/10000 [==============================] - 1s 138us/step - loss: 0.4568 - accuracy: 0.8104 - val_loss: 0.5502 - val_accuracy: 0.7540\n"
          ],
          "name": "stdout"
        }
      ]
    },
    {
      "cell_type": "code",
      "metadata": {
        "id": "x6NsRYQpE-3o",
        "colab_type": "code",
        "colab": {}
      },
      "source": [
        "model.save('my_new_single_trained_model_1.h5')"
      ],
      "execution_count": 56,
      "outputs": []
    },
    {
      "cell_type": "code",
      "metadata": {
        "id": "OXd73asvE-3p",
        "colab_type": "code",
        "colab": {
          "base_uri": "https://localhost:8080/",
          "height": 349
        },
        "outputId": "5bb0cf51-31d9-4832-dc2e-4476ea2b0865"
      },
      "source": [
        "import matplotlib.pyplot as plt\n",
        "\n",
        "print(history.history.keys())\n",
        "#Summarize history for accuracy\n",
        "print(history.history)\n",
        "plt.plot(history.history['accuracy'])\n",
        "plt.plot(history.history['val_accuracy'])\n",
        "plt.title('model accuracy')\n",
        "plt.ylabel('accuracy')\n",
        "plt.xlabel('epoch')\n",
        "plt.legend(['train', 'test'], loc='upper left')\n",
        "plt.show()"
      ],
      "execution_count": 60,
      "outputs": [
        {
          "output_type": "stream",
          "text": [
            "dict_keys(['val_loss', 'val_accuracy', 'loss', 'accuracy'])\n",
            "{'val_loss': [1.7696758060455322, 1.6643094215393066, 1.6026945781707764, 1.5105930709838866, 1.4945538997650147, 1.5094666805267334, 1.4877574920654297, 1.4735319538116456, 1.4631745767593385, 1.4424916648864745, 1.3998296527862548, 1.3734779539108277, 1.3574451189041137, 1.345405014038086, 1.3319494457244874, 1.3225426998138428, 1.3196471815109252, 1.3111588115692139, 1.30682315826416, 1.2950904531478882, 1.2909039707183838, 1.2821711339950561, 1.2855118217468262, 1.2824398803710937, 1.2964886026382447, 1.2783723087310792, 1.2611988992691041, 1.2505497131347656, 1.204425012588501, 1.1155901050567627, 0.9732022647857665, 0.875159215927124, 0.811066722869873, 0.7531215629577637, 0.6811474895477295, 0.6172580318450928, 0.5731070671081543, 0.5467709472179413, 0.5359936792850495, 0.5317655823230744, 0.5298782169818879, 0.527853120803833, 0.5278377587795258, 0.5255903117656707, 0.5247368679046631, 0.5249459700584411, 0.5249957730770111, 0.5259308745861053, 0.5240595338344574, 0.5241498014926911, 0.5241193866729736, 0.5235087049007415, 0.5246650288105011, 0.5243889336585998, 0.5234936547279357, 0.5228354029655456, 0.5230226190090179, 0.5235912334918976, 0.5245224149227142, 0.5241512660980224, 0.5232860107421875, 0.5271901230812073, 0.52454279088974, 0.5248829917907715, 0.5229784002304078, 0.5219882390499115, 0.5241821372509002, 0.5246967749595642, 0.5231926367282868, 0.5237234301567077, 0.5243618612289429, 0.5249906215667725, 0.525510600566864, 0.5270975692272186, 0.5241455314159393, 0.5244560449123382, 0.5259426140785217, 0.5252759337425232, 0.5263482196331024, 0.52583171916008, 0.5262905242443084, 0.5269383935928345, 0.5286136882305146, 0.5275864164829254, 0.528775705575943, 0.5251729815006256, 0.5256941523551941, 0.5299460101127624, 0.525987874031067, 0.525421448469162, 0.5262867374420166, 0.5315679998397828, 0.5275198662281037, 0.5299638283252716, 0.5282734301090241, 0.5282795557975769, 0.5296900942325592, 0.5271879467964172, 0.5297970197200775, 0.5328050272464753, 0.5278932945728302, 0.5287749576568603, 0.5296332414150238, 0.5311312847137452, 0.5365238633155823, 0.5316509861946106, 0.5289300086498261, 0.5354235591888428, 0.5293668472766876, 0.5281840579509736, 0.5297975227832794, 0.5307489025592804, 0.5374674551486969, 0.532817920923233, 0.5295936214923859, 0.5300031645298005, 0.5349474301338196, 0.532894127368927, 0.5370885210037232, 0.5344547731876373, 0.5344701871871949, 0.5367582347393036, 0.5363235664367676, 0.5395735273361206, 0.5372795255184174, 0.5364667043685913, 0.5367044653892518, 0.5322850615978241, 0.5372176008224487, 0.5368769688606262, 0.5356818342208862, 0.5343557155132294, 0.5415811495780944, 0.5372278261184692, 0.5383108110427857, 0.5390474309921265, 0.5401932864189148, 0.5574579510688782, 0.5398215498924256, 0.5403720717430115, 0.5416838688850403, 0.5490177297592163, 0.5421539001464843, 0.5443264780044555, 0.5374044289588928, 0.5520539832115173, 0.544448748588562, 0.5383951807022095, 0.5418184633255005, 0.550182370185852], 'val_accuracy': [0.25200000405311584, 0.2540000081062317, 0.35600000619888306, 0.39899998903274536, 0.4000000059604645, 0.41600000858306885, 0.4269999861717224, 0.4259999990463257, 0.4560000002384186, 0.4620000123977661, 0.527999997138977, 0.5270000100135803, 0.5270000100135803, 0.527999997138977, 0.515999972820282, 0.5270000100135803, 0.5090000033378601, 0.5149999856948853, 0.5260000228881836, 0.5249999761581421, 0.5120000243186951, 0.5270000100135803, 0.5070000290870667, 0.515999972820282, 0.5040000081062317, 0.5180000066757202, 0.5289999842643738, 0.5450000166893005, 0.5799999833106995, 0.6240000128746033, 0.6880000233650208, 0.7269999980926514, 0.7540000081062317, 0.7549999952316284, 0.7549999952316284, 0.7590000033378601, 0.7559999823570251, 0.753000020980835, 0.7620000243186951, 0.7540000081062317, 0.753000020980835, 0.75, 0.7440000176429749, 0.753000020980835, 0.7450000047683716, 0.7490000128746033, 0.7490000128746033, 0.7480000257492065, 0.7459999918937683, 0.7459999918937683, 0.75, 0.753000020980835, 0.7390000224113464, 0.7419999837875366, 0.7509999871253967, 0.753000020980835, 0.7559999823570251, 0.7540000081062317, 0.7490000128746033, 0.7459999918937683, 0.7509999871253967, 0.7559999823570251, 0.7509999871253967, 0.75, 0.7549999952316284, 0.7570000290870667, 0.7549999952316284, 0.746999979019165, 0.7590000033378601, 0.753000020980835, 0.753000020980835, 0.7509999871253967, 0.75, 0.7580000162124634, 0.7540000081062317, 0.7519999742507935, 0.7570000290870667, 0.7570000290870667, 0.7519999742507935, 0.7580000162124634, 0.7549999952316284, 0.7559999823570251, 0.75, 0.7540000081062317, 0.7570000290870667, 0.7599999904632568, 0.7540000081062317, 0.7519999742507935, 0.7540000081062317, 0.753000020980835, 0.7549999952316284, 0.7509999871253967, 0.7559999823570251, 0.75, 0.753000020980835, 0.7509999871253967, 0.7540000081062317, 0.7559999823570251, 0.7570000290870667, 0.7570000290870667, 0.7570000290870667, 0.7570000290870667, 0.7540000081062317, 0.7580000162124634, 0.7549999952316284, 0.7599999904632568, 0.7559999823570251, 0.7590000033378601, 0.7559999823570251, 0.7599999904632568, 0.7570000290870667, 0.7590000033378601, 0.7559999823570251, 0.7540000081062317, 0.7559999823570251, 0.7490000128746033, 0.7549999952316284, 0.753000020980835, 0.7490000128746033, 0.7570000290870667, 0.7580000162124634, 0.7570000290870667, 0.7519999742507935, 0.7620000243186951, 0.75, 0.75, 0.7509999871253967, 0.746999979019165, 0.753000020980835, 0.7540000081062317, 0.7549999952316284, 0.7549999952316284, 0.7509999871253967, 0.7519999742507935, 0.75, 0.7519999742507935, 0.7570000290870667, 0.746999979019165, 0.746999979019165, 0.7580000162124634, 0.7509999871253967, 0.753000020980835, 0.75, 0.7509999871253967, 0.7549999952316284, 0.7480000257492065, 0.7490000128746033, 0.7570000290870667, 0.7519999742507935, 0.7540000081062317], 'loss': [2.0018750547409057, 1.726937532234192, 1.6533054027557372, 1.5603148555755615, 1.5224743476867675, 1.5080766445159912, 1.4953826995849608, 1.4878014770507813, 1.4724382543563843, 1.4517674814224244, 1.429365929031372, 1.4119546689987184, 1.3920798721313477, 1.3838184719085693, 1.3668410255432129, 1.344699618911743, 1.350544267463684, 1.332564442062378, 1.32315439453125, 1.3294333967208862, 1.3227409036636353, 1.3092098936080934, 1.3043621170043946, 1.2962618328094482, 1.295166262435913, 1.295516054725647, 1.2812096969604492, 1.2757369598388673, 1.2421309633255004, 1.1857943098068238, 1.0923132194519043, 0.9843373889923096, 0.888335313129425, 0.823376679801941, 0.7629571042060852, 0.6896807415485382, 0.6221660990715027, 0.5733565196037292, 0.5419945928573608, 0.5191387284755706, 0.5095528283834457, 0.5087043375968933, 0.4949536618709564, 0.49743776283264163, 0.49274704637527467, 0.48438622064590453, 0.4795648615837097, 0.4850666898727417, 0.48112829194068907, 0.4803274715423584, 0.4804862366914749, 0.4801722486257553, 0.48633647170066835, 0.47880381469726563, 0.4824676710367203, 0.4765771726131439, 0.47922026493549347, 0.47823499948978426, 0.4778602351665497, 0.4808766175031662, 0.48095693960189817, 0.47610819721221925, 0.4794709888935089, 0.47481268396377563, 0.4759859416723251, 0.47462752690315246, 0.48058524626009164, 0.4756422427177429, 0.46910205149650575, 0.47475676488280294, 0.46731945350170134, 0.4720800220966339, 0.47617623579502105, 0.47055441942214965, 0.4815250439763069, 0.47236303317546846, 0.4720517207622528, 0.47185015497207644, 0.4773656021118164, 0.4732771725654602, 0.46767594764232634, 0.4745804940223694, 0.47159848346710204, 0.4702768645763397, 0.4711967253565788, 0.47402406783103945, 0.47362635761499405, 0.4685262858390808, 0.47555358171463014, 0.46932405495643614, 0.47357024450302126, 0.4714365583658218, 0.4726973157644272, 0.4682588846206665, 0.46936314315795896, 0.47537624220848085, 0.4715268637418747, 0.4663024564743042, 0.4690406922340393, 0.47258513977527616, 0.46653701763153077, 0.46928979868888854, 0.46902607884407044, 0.46521984255313875, 0.46160960042476656, 0.46465722784996033, 0.46606836647987365, 0.4671881468772888, 0.46552563853263856, 0.4682653615474701, 0.46549516159296034, 0.46245922541618345, 0.4639851933479309, 0.47197559330463407, 0.4669034992694855, 0.46793583605289457, 0.4637194360017777, 0.46892402386665344, 0.46454860219955446, 0.46284273904561996, 0.46199004163742063, 0.4680205914258957, 0.4628295825242996, 0.46243487212881446, 0.4575630754470825, 0.4575789396703243, 0.4618867224693298, 0.46275471720695494, 0.46761409230232237, 0.4646399435520172, 0.46107262477874755, 0.4627788953661919, 0.45282274050712584, 0.4542008066654205, 0.45589866514205935, 0.46410909007787704, 0.4608241473197937, 0.4578307390213013, 0.46150883564949036, 0.45769484333992005, 0.4582510160446167, 0.4588984333515167, 0.45850644698143006, 0.4545749282836914, 0.4567399115085602, 0.45585275440216066, 0.4558799756884575, 0.4561552851676941, 0.4543968320608139, 0.45680359563827516], 'accuracy': [0.1776, 0.2309, 0.2933, 0.3853, 0.4069, 0.4114, 0.4302, 0.4317, 0.4472, 0.4722, 0.4977, 0.5144, 0.5197, 0.5125, 0.5162, 0.5236, 0.5179, 0.5204, 0.5206, 0.5135, 0.5177, 0.5155, 0.5203, 0.5217, 0.5161, 0.5209, 0.5199, 0.53, 0.5562, 0.5924, 0.6475, 0.6986, 0.7336, 0.7487, 0.7621, 0.7634, 0.7722, 0.773, 0.7794, 0.7783, 0.7799, 0.7782, 0.7803, 0.7831, 0.7833, 0.7895, 0.788, 0.7864, 0.7902, 0.7865, 0.7861, 0.7839, 0.7881, 0.7874, 0.7908, 0.7913, 0.79, 0.7875, 0.7884, 0.7875, 0.7849, 0.7927, 0.7912, 0.7939, 0.7914, 0.7902, 0.7904, 0.7926, 0.7924, 0.7924, 0.794, 0.7941, 0.792, 0.7946, 0.7917, 0.795, 0.7914, 0.7947, 0.7938, 0.7916, 0.7975, 0.7966, 0.7929, 0.796, 0.7974, 0.7968, 0.795, 0.7973, 0.7957, 0.7983, 0.7987, 0.7991, 0.7979, 0.7973, 0.7938, 0.8018, 0.8008, 0.7987, 0.7995, 0.8003, 0.799, 0.7958, 0.7967, 0.8012, 0.8035, 0.7996, 0.799, 0.8034, 0.8008, 0.8007, 0.8035, 0.8024, 0.7992, 0.8026, 0.8025, 0.8035, 0.8029, 0.8008, 0.8064, 0.8037, 0.8034, 0.8049, 0.8039, 0.8039, 0.8087, 0.8058, 0.8062, 0.8009, 0.8039, 0.8063, 0.8067, 0.8056, 0.805, 0.8083, 0.8055, 0.806, 0.805, 0.8038, 0.8056, 0.8027, 0.807, 0.8095, 0.8061, 0.8088, 0.8067, 0.8075, 0.8077, 0.8099, 0.8077, 0.8104]}\n"
          ],
          "name": "stdout"
        },
        {
          "output_type": "display_data",
          "data": {
            "image/png": "[encoded data removed]",
            "text/plain": [
              "<Figure size 432x288 with 1 Axes>"
            ]
          },
          "metadata": {
            "tags": [],
            "needs_background": "light"
          }
        }
      ]
    },
    {
      "cell_type": "code",
      "metadata": {
        "id": "SvxHFnodE-3r",
        "colab_type": "code",
        "colab": {}
      },
      "source": [
        "model.load_weights('my_new_trained_model.h5')"
      ],
      "execution_count": null,
      "outputs": []
    },
    {
      "cell_type": "code",
      "metadata": {
        "id": "DuQ1mkdwE-3t",
        "colab_type": "code",
        "colab": {}
      },
      "source": [
        "pred_results = model.predict(([inputs_test, queries_test]))"
      ],
      "execution_count": 61,
      "outputs": []
    },
    {
      "cell_type": "code",
      "metadata": {
        "id": "DBmVLmeLE-3v",
        "colab_type": "code",
        "colab": {}
      },
      "source": [
        "val_max = np.argmax(pred_results[0])"
      ],
      "execution_count": 62,
      "outputs": []
    },
    {
      "cell_type": "code",
      "metadata": {
        "id": "EGPMYYjkE-3x",
        "colab_type": "code",
        "colab": {}
      },
      "source": [
        "for key, val in tokenizer.word_index.items():\n",
        "    if val == val_max:\n",
        "        k = key"
      ],
      "execution_count": 63,
      "outputs": []
    },
    {
      "cell_type": "code",
      "metadata": {
        "id": "Zl1xoakrE-3y",
        "colab_type": "code",
        "colab": {
          "base_uri": "https://localhost:8080/",
          "height": 35
        },
        "outputId": "39cfffc8-980a-4321-88f4-79d5f1c9b695"
      },
      "source": [
        "k"
      ],
      "execution_count": 64,
      "outputs": [
        {
          "output_type": "execute_result",
          "data": {
            "application/vnd.google.colaboratory.intrinsic": {
              "type": "string"
            },
            "text/plain": [
              "'hallway'"
            ]
          },
          "metadata": {
            "tags": []
          },
          "execution_count": 64
        }
      ]
    },
    {
      "cell_type": "code",
      "metadata": {
        "id": "tOIL2OmHE-30",
        "colab_type": "code",
        "colab": {
          "base_uri": "https://localhost:8080/",
          "height": 34
        },
        "outputId": "1acc817d-7fd6-4767-eeda-ae678fec0f26"
      },
      "source": [
        "pred_results[0][val_max]"
      ],
      "execution_count": 65,
      "outputs": [
        {
          "output_type": "execute_result",
          "data": {
            "text/plain": [
              "1.0"
            ]
          },
          "metadata": {
            "tags": []
          },
          "execution_count": 65
        }
      ]
    },
    {
      "cell_type": "code",
      "metadata": {
        "id": "s6DrvPQsE-31",
        "colab_type": "code",
        "colab": {
          "base_uri": "https://localhost:8080/",
          "height": 374
        },
        "outputId": "d1fbb0f3-c3b6-4794-a8da-fe16b8c87434"
      },
      "source": [
        "# NOW WE'LL TEST THE MODEL WITH OUR VERY OWN STORY\n",
        "#NOTE: As the model has been trained on the vocab of just 38 words, we'll have to create the story with the words in vocab\n",
        "\n",
        "vocab"
      ],
      "execution_count": 66,
      "outputs": [
        {
          "output_type": "execute_result",
          "data": {
            "text/plain": [
              "{'.',\n",
              " '?',\n",
              " 'Daniel',\n",
              " 'John',\n",
              " 'Mary',\n",
              " 'Sandra',\n",
              " 'Where',\n",
              " 'back',\n",
              " 'bathroom',\n",
              " 'bedroom',\n",
              " 'garden',\n",
              " 'hallway',\n",
              " 'is',\n",
              " 'journeyed',\n",
              " 'kitchen',\n",
              " 'moved',\n",
              " 'office',\n",
              " 'the',\n",
              " 'to',\n",
              " 'travelled',\n",
              " 'went'}"
            ]
          },
          "metadata": {
            "tags": []
          },
          "execution_count": 66
        }
      ]
    },
    {
      "cell_type": "code",
      "metadata": {
        "id": "V_AB7YWFE-33",
        "colab_type": "code",
        "colab": {}
      },
      "source": [
        "# EXAMPLE 1\n",
        "my_story = \"John travelled to the hallway . Mary journeyed to the bedroom . John moved to the office .\"\n",
        "my_ques = \"Where is John ?\""
      ],
      "execution_count": 99,
      "outputs": []
    },
    {
      "cell_type": "code",
      "metadata": {
        "id": "7ZgUinANE-35",
        "colab_type": "code",
        "colab": {}
      },
      "source": [
        "mydata = [(my_story.split(), my_ques.split(), 'office')]"
      ],
      "execution_count": 100,
      "outputs": []
    },
    {
      "cell_type": "code",
      "metadata": {
        "id": "fm6E95pXE-36",
        "colab_type": "code",
        "colab": {
          "base_uri": "https://localhost:8080/",
          "height": 357
        },
        "outputId": "7bdc7aa7-2ebb-4fe2-8e27-584b4c7061b5"
      },
      "source": [
        "mydata"
      ],
      "execution_count": 101,
      "outputs": [
        {
          "output_type": "execute_result",
          "data": {
            "text/plain": [
              "[(['John',\n",
              "   'travelled',\n",
              "   'to',\n",
              "   'the',\n",
              "   'hallway',\n",
              "   '.',\n",
              "   'Mary',\n",
              "   'journeyed',\n",
              "   'to',\n",
              "   'the',\n",
              "   'bedroom',\n",
              "   '.',\n",
              "   'John',\n",
              "   'moved',\n",
              "   'to',\n",
              "   'the',\n",
              "   'office',\n",
              "   '.'],\n",
              "  ['Where', 'is', 'John', '?'],\n",
              "  'office')]"
            ]
          },
          "metadata": {
            "tags": []
          },
          "execution_count": 101
        }
      ]
    },
    {
      "cell_type": "code",
      "metadata": {
        "id": "07hcm43JE-37",
        "colab_type": "code",
        "colab": {}
      },
      "source": [
        "my_story,my_ques,my_ans = vectorize_stories(mydata)"
      ],
      "execution_count": 102,
      "outputs": []
    },
    {
      "cell_type": "code",
      "metadata": {
        "id": "K6vcf287E-38",
        "colab_type": "code",
        "colab": {}
      },
      "source": [
        "pred_ans = model.predict(([my_story, my_ques]))"
      ],
      "execution_count": 103,
      "outputs": []
    },
    {
      "cell_type": "code",
      "metadata": {
        "id": "H1iNcWmdE-39",
        "colab_type": "code",
        "colab": {}
      },
      "source": [
        "val_max = np.argmax(pred_ans)"
      ],
      "execution_count": 104,
      "outputs": []
    },
    {
      "cell_type": "code",
      "metadata": {
        "id": "KyTi7p-fE-3-",
        "colab_type": "code",
        "colab": {
          "base_uri": "https://localhost:8080/",
          "height": 51
        },
        "outputId": "88326e0b-6bfb-4b14-8553-6b45dbd87cb8"
      },
      "source": [
        "#Generate prediction from model\n",
        "val_max = np.argmax(pred_ans[0])\n",
        "\n",
        "for key, val in tokenizer.word_index.items():\n",
        "    if val == val_max:\n",
        "        k = key\n",
        "\n",
        "print(\"Predicted answer is: \", k)\n",
        "print(\"Probability of certainty was: \", pred_ans[0][val_max])"
      ],
      "execution_count": 105,
      "outputs": [
        {
          "output_type": "stream",
          "text": [
            "Predicted answer is:  office\n",
            "Probability of certainty was:  0.9999999\n"
          ],
          "name": "stdout"
        }
      ]
    },
    {
      "cell_type": "code",
      "metadata": {
        "id": "Ngqf7bJ7E-4A",
        "colab_type": "code",
        "colab": {
          "base_uri": "https://localhost:8080/",
          "height": 51
        },
        "outputId": "60ea0762-df88-4eb5-f769-e56ff7da428b"
      },
      "source": [
        "pred_ans.argsort()"
      ],
      "execution_count": 106,
      "outputs": [
        {
          "output_type": "execute_result",
          "data": {
            "text/plain": [
              "array([[ 4,  0,  8, 17, 12, 18, 14,  3, 19, 16,  2,  9, 10, 15, 13, 20,\n",
              "        21,  6,  1, 11,  5,  7]])"
            ]
          },
          "metadata": {
            "tags": []
          },
          "execution_count": 106
        }
      ]
    },
    {
      "cell_type": "code",
      "metadata": {
        "id": "jTVKYzz2E-4C",
        "colab_type": "code",
        "colab": {
          "base_uri": "https://localhost:8080/",
          "height": 187
        },
        "outputId": "49d796ab-7074-4874-de14-862287853a89"
      },
      "source": [
        "for val_max in pred_ans.argsort()[0][-5:]:\n",
        "    for key, val in tokenizer.word_index.items():\n",
        "        if val == val_max:\n",
        "            k = key\n",
        "    print(\"Predicted answer is: \", k)\n",
        "    print(\"Probability of certainty was: \", pred_ans[0][val_max])"
      ],
      "execution_count": 107,
      "outputs": [
        {
          "output_type": "stream",
          "text": [
            "Predicted answer is:  kitchen\n",
            "Probability of certainty was:  1.7761385e-08\n",
            "Predicted answer is:  bathroom\n",
            "Probability of certainty was:  4.421059e-08\n",
            "Predicted answer is:  garden\n",
            "Probability of certainty was:  4.4512998e-08\n",
            "Predicted answer is:  bedroom\n",
            "Probability of certainty was:  6.3033625e-08\n",
            "Predicted answer is:  office\n",
            "Probability of certainty was:  0.9999999\n"
          ],
          "name": "stdout"
        }
      ]
    },
    {
      "cell_type": "code",
      "metadata": {
        "id": "vWB2CQGhE-4F",
        "colab_type": "code",
        "colab": {
          "base_uri": "https://localhost:8080/",
          "height": 34
        },
        "outputId": "9010456a-f55e-40d0-f6d1-7cd98e5aa8a9"
      },
      "source": [
        "from google.colab import drive\n",
        "drive.mount('/content/gdrive')"
      ],
      "execution_count": 108,
      "outputs": [
        {
          "output_type": "stream",
          "text": [
            "Drive already mounted at /content/gdrive; to attempt to forcibly remount, call drive.mount(\"/content/gdrive\", force_remount=True).\n"
          ],
          "name": "stdout"
        }
      ]
    },
    {
      "cell_type": "code",
      "metadata": {
        "id": "56eCNLDNZyqU",
        "colab_type": "code",
        "colab": {}
      },
      "source": [
        "model.save('/content/gdrive/My Drive/trained_model.h5')"
      ],
      "execution_count": 98,
      "outputs": []
    },
    {
      "cell_type": "code",
      "metadata": {
        "id": "TwPw3MupasOH",
        "colab_type": "code",
        "colab": {
          "base_uri": "https://localhost:8080/",
          "height": 374
        },
        "outputId": "867fe033-4f44-4083-aa28-e3f7aba506dc"
      },
      "source": [
        "vocab"
      ],
      "execution_count": 109,
      "outputs": [
        {
          "output_type": "execute_result",
          "data": {
            "text/plain": [
              "{'.',\n",
              " '?',\n",
              " 'Daniel',\n",
              " 'John',\n",
              " 'Mary',\n",
              " 'Sandra',\n",
              " 'Where',\n",
              " 'back',\n",
              " 'bathroom',\n",
              " 'bedroom',\n",
              " 'garden',\n",
              " 'hallway',\n",
              " 'is',\n",
              " 'journeyed',\n",
              " 'kitchen',\n",
              " 'moved',\n",
              " 'office',\n",
              " 'the',\n",
              " 'to',\n",
              " 'travelled',\n",
              " 'went'}"
            ]
          },
          "metadata": {
            "tags": []
          },
          "execution_count": 109
        }
      ]
    },
    {
      "cell_type": "code",
      "metadata": {
        "id": "C94fbzJeaDje",
        "colab_type": "code",
        "colab": {}
      },
      "source": [
        "# EXAMPLE 2\n",
        "my_story = \"Daniel journeyed to the Kitchen . John went to the bedroom . John travelled to the office . Daniel went to the garden . Sandra moved back to the Kitchen .\"\n",
        "my_ques = \"Where is Daniel ?\""
      ],
      "execution_count": 125,
      "outputs": []
    },
    {
      "cell_type": "code",
      "metadata": {
        "id": "MmcyArzRd7bt",
        "colab_type": "code",
        "colab": {}
      },
      "source": [
        "mydata = [(my_story.split(), my_ques.split(), 'garden')]"
      ],
      "execution_count": 127,
      "outputs": []
    },
    {
      "cell_type": "code",
      "metadata": {
        "id": "2sYCNtw9d_Cj",
        "colab_type": "code",
        "colab": {}
      },
      "source": [
        "my_story,my_ques,my_ans = vectorize_stories(mydata)"
      ],
      "execution_count": 128,
      "outputs": []
    },
    {
      "cell_type": "code",
      "metadata": {
        "id": "uvk7N3dSeC_L",
        "colab_type": "code",
        "colab": {}
      },
      "source": [
        "pred_ans = model.predict(([my_story, my_ques]))"
      ],
      "execution_count": 129,
      "outputs": []
    },
    {
      "cell_type": "code",
      "metadata": {
        "id": "zuSDhAHeeIv9",
        "colab_type": "code",
        "colab": {}
      },
      "source": [
        "val_max = np.argmax(pred_ans)"
      ],
      "execution_count": 130,
      "outputs": []
    },
    {
      "cell_type": "code",
      "metadata": {
        "id": "t_iwRY4keKjZ",
        "colab_type": "code",
        "colab": {
          "base_uri": "https://localhost:8080/",
          "height": 51
        },
        "outputId": "521bac90-10b5-4a4c-8a57-7d3a83300dcd"
      },
      "source": [
        "#Generate prediction from model\n",
        "val_max = np.argmax(pred_ans[0])\n",
        "\n",
        "for key, val in tokenizer.word_index.items():\n",
        "    if val == val_max:\n",
        "        k = key\n",
        "\n",
        "print(\"Predicted answer is: \", k)\n",
        "print(\"Probability of certainty was: \", pred_ans[0][val_max])"
      ],
      "execution_count": 131,
      "outputs": [
        {
          "output_type": "stream",
          "text": [
            "Predicted answer is:  garden\n",
            "Probability of certainty was:  0.9999995\n"
          ],
          "name": "stdout"
        }
      ]
    },
    {
      "cell_type": "code",
      "metadata": {
        "id": "UhKNxeXPeNRN",
        "colab_type": "code",
        "colab": {
          "base_uri": "https://localhost:8080/",
          "height": 187
        },
        "outputId": "27eae376-84c7-4cb9-cebc-0d181239f914"
      },
      "source": [
        "for val_max in pred_ans.argsort()[0][-5:]:\n",
        "    for key, val in tokenizer.word_index.items():\n",
        "        if val == val_max:\n",
        "            k = key\n",
        "    print(\"Predicted answer is: \", k)\n",
        "    print(\"Probability of certainty was: \", pred_ans[0][val_max])"
      ],
      "execution_count": 133,
      "outputs": [
        {
          "output_type": "stream",
          "text": [
            "Predicted answer is:  bathroom\n",
            "Probability of certainty was:  2.0406397e-09\n",
            "Predicted answer is:  office\n",
            "Probability of certainty was:  1.0415498e-08\n",
            "Predicted answer is:  hallway\n",
            "Probability of certainty was:  9.974871e-08\n",
            "Predicted answer is:  kitchen\n",
            "Probability of certainty was:  3.6766e-07\n",
            "Predicted answer is:  garden\n",
            "Probability of certainty was:  0.9999995\n"
          ],
          "name": "stdout"
        }
      ]
    },
    {
      "cell_type": "code",
      "metadata": {
        "id": "ExUvHhVFeoMV",
        "colab_type": "code",
        "colab": {}
      },
      "source": [
        "# Model got confused here."
      ],
      "execution_count": 124,
      "outputs": []
    },
    {
      "cell_type": "code",
      "metadata": {
        "id": "4lfqlTt1ey4H",
        "colab_type": "code",
        "colab": {}
      },
      "source": [
        "# EXAMPLE 3\n",
        "my_story = \"Daniel journeyed to the Kitchen . John went to the bedroom . John travelled to the office . Daniel went to the garden . Sandra moved back to the Kitchen .\"\n",
        "my_ques = \"Where is John ?\""
      ],
      "execution_count": 134,
      "outputs": []
    },
    {
      "cell_type": "code",
      "metadata": {
        "id": "B2wtFdpvfKU5",
        "colab_type": "code",
        "colab": {}
      },
      "source": [
        "mydata = [(my_story.split(), my_ques.split(), 'garden')]"
      ],
      "execution_count": 135,
      "outputs": []
    },
    {
      "cell_type": "code",
      "metadata": {
        "id": "JkkxxiVXfPdS",
        "colab_type": "code",
        "colab": {
          "base_uri": "https://localhost:8080/",
          "height": 578
        },
        "outputId": "78e3d6e3-1c3b-4297-8202-215c7e35260f"
      },
      "source": [
        "mydata"
      ],
      "execution_count": 136,
      "outputs": [
        {
          "output_type": "execute_result",
          "data": {
            "text/plain": [
              "[(['Daniel',\n",
              "   'journeyed',\n",
              "   'to',\n",
              "   'the',\n",
              "   'Kitchen',\n",
              "   '.',\n",
              "   'John',\n",
              "   'went',\n",
              "   'to',\n",
              "   'the',\n",
              "   'bedroom',\n",
              "   '.',\n",
              "   'John',\n",
              "   'travelled',\n",
              "   'to',\n",
              "   'the',\n",
              "   'office',\n",
              "   '.',\n",
              "   'Daniel',\n",
              "   'went',\n",
              "   'to',\n",
              "   'the',\n",
              "   'garden',\n",
              "   '.',\n",
              "   'Sandra',\n",
              "   'moved',\n",
              "   'back',\n",
              "   'to',\n",
              "   'the',\n",
              "   'Kitchen',\n",
              "   '.'],\n",
              "  ['Where', 'is', 'John', '?'],\n",
              "  'garden')]"
            ]
          },
          "metadata": {
            "tags": []
          },
          "execution_count": 136
        }
      ]
    },
    {
      "cell_type": "code",
      "metadata": {
        "id": "lRLIvSaJfRWx",
        "colab_type": "code",
        "colab": {}
      },
      "source": [
        "my_story,my_ques,my_ans = vectorize_stories(mydata)"
      ],
      "execution_count": 137,
      "outputs": []
    },
    {
      "cell_type": "code",
      "metadata": {
        "id": "aMsACeXYfUcV",
        "colab_type": "code",
        "colab": {}
      },
      "source": [
        "pred_ans = model.predict(([my_story, my_ques]))"
      ],
      "execution_count": 138,
      "outputs": []
    },
    {
      "cell_type": "code",
      "metadata": {
        "id": "8lBOPLswfXPN",
        "colab_type": "code",
        "colab": {}
      },
      "source": [
        "val_max = np.argmax(pred_ans)"
      ],
      "execution_count": 139,
      "outputs": []
    },
    {
      "cell_type": "code",
      "metadata": {
        "id": "xkOFGU5RfZVu",
        "colab_type": "code",
        "colab": {
          "base_uri": "https://localhost:8080/",
          "height": 51
        },
        "outputId": "e04ebc07-b654-40ca-e982-dcf6c3ecc47e"
      },
      "source": [
        "#Generate prediction from model\n",
        "val_max = np.argmax(pred_ans[0])\n",
        "\n",
        "for key, val in tokenizer.word_index.items():\n",
        "    if val == val_max:\n",
        "        k = key\n",
        "\n",
        "print(\"Predicted answer is: \", k)\n",
        "print(\"Probability of certainty was: \", pred_ans[0][val_max])"
      ],
      "execution_count": 140,
      "outputs": [
        {
          "output_type": "stream",
          "text": [
            "Predicted answer is:  bathroom\n",
            "Probability of certainty was:  0.27967918\n"
          ],
          "name": "stdout"
        }
      ]
    },
    {
      "cell_type": "code",
      "metadata": {
        "id": "cOKl_ae9fbc5",
        "colab_type": "code",
        "colab": {
          "base_uri": "https://localhost:8080/",
          "height": 187
        },
        "outputId": "f2387f61-1079-4c81-d2a9-2cd290b47881"
      },
      "source": [
        "for val_max in pred_ans.argsort()[0][-5:]:\n",
        "    for key, val in tokenizer.word_index.items():\n",
        "        if val == val_max:\n",
        "            k = key\n",
        "    print(\"Predicted answer is: \", k)\n",
        "    print(\"Probability of certainty was: \", pred_ans[0][val_max])"
      ],
      "execution_count": 141,
      "outputs": [
        {
          "output_type": "stream",
          "text": [
            "Predicted answer is:  kitchen\n",
            "Probability of certainty was:  0.078002304\n",
            "Predicted answer is:  office\n",
            "Probability of certainty was:  0.108335465\n",
            "Predicted answer is:  hallway\n",
            "Probability of certainty was:  0.19714738\n",
            "Predicted answer is:  garden\n",
            "Probability of certainty was:  0.27417806\n",
            "Predicted answer is:  bathroom\n",
            "Probability of certainty was:  0.27967918\n"
          ],
          "name": "stdout"
        }
      ]
    },
    {
      "cell_type": "code",
      "metadata": {
        "id": "RofvhdjLfePt",
        "colab_type": "code",
        "colab": {}
      },
      "source": [
        ""
      ],
      "execution_count": null,
      "outputs": []
    }
  ]
}