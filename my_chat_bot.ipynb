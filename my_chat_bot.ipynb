{
 "cells": [
  {
   "cell_type": "code",
   "execution_count": 1,
   "metadata": {},
   "outputs": [],
   "source": [
    "import pickle\n",
    "import numpy as np"
   ]
  },
  {
   "cell_type": "code",
   "execution_count": 2,
   "metadata": {},
   "outputs": [],
   "source": [
    "with open('train_qa.txt', 'rb') as f:\n",
    "    train_data = pickle.load(f)"
   ]
  },
  {
   "cell_type": "code",
   "execution_count": 3,
   "metadata": {},
   "outputs": [],
   "source": [
    "with open('test_qa.txt', 'rb') as f:\n",
    "    test_data = pickle.load(f)"
   ]
  },
  {
   "cell_type": "code",
   "execution_count": 208,
   "metadata": {},
   "outputs": [
    {
     "data": {
      "text/plain": [
       "(['Mary',\n",
       "  'got',\n",
       "  'the',\n",
       "  'milk',\n",
       "  'there',\n",
       "  '.',\n",
       "  'John',\n",
       "  'moved',\n",
       "  'to',\n",
       "  'the',\n",
       "  'bedroom',\n",
       "  '.'],\n",
       " ['Is', 'John', 'in', 'the', 'kitchen', '?'],\n",
       " 'no')"
      ]
     },
     "execution_count": 208,
     "metadata": {},
     "output_type": "execute_result"
    }
   ],
   "source": [
    "test_data[0]"
   ]
  },
  {
   "cell_type": "code",
   "execution_count": 5,
   "metadata": {},
   "outputs": [
    {
     "data": {
      "text/plain": [
       "(10000, 1000)"
      ]
     },
     "execution_count": 5,
     "metadata": {},
     "output_type": "execute_result"
    }
   ],
   "source": [
    "len(train_data), len(test_data)"
   ]
  },
  {
   "cell_type": "code",
   "execution_count": 6,
   "metadata": {},
   "outputs": [
    {
     "data": {
      "text/plain": [
       "'Mary moved to the bathroom . Sandra journeyed to the bedroom .'"
      ]
     },
     "execution_count": 6,
     "metadata": {},
     "output_type": "execute_result"
    }
   ],
   "source": [
    "' '.join(train_data[0][0])"
   ]
  },
  {
   "cell_type": "code",
   "execution_count": 7,
   "metadata": {},
   "outputs": [
    {
     "data": {
      "text/plain": [
       "'Is Sandra in the hallway ?'"
      ]
     },
     "execution_count": 7,
     "metadata": {},
     "output_type": "execute_result"
    }
   ],
   "source": [
    "' '.join(train_data[0][1])"
   ]
  },
  {
   "cell_type": "code",
   "execution_count": 8,
   "metadata": {},
   "outputs": [
    {
     "data": {
      "text/plain": [
       "'no'"
      ]
     },
     "execution_count": 8,
     "metadata": {},
     "output_type": "execute_result"
    }
   ],
   "source": [
    "train_data[0][2]"
   ]
  },
  {
   "cell_type": "code",
   "execution_count": 9,
   "metadata": {},
   "outputs": [],
   "source": [
    "all_data = test_data + train_data"
   ]
  },
  {
   "cell_type": "code",
   "execution_count": 10,
   "metadata": {},
   "outputs": [
    {
     "data": {
      "text/plain": [
       "11000"
      ]
     },
     "execution_count": 10,
     "metadata": {},
     "output_type": "execute_result"
    }
   ],
   "source": [
    "len(all_data)"
   ]
  },
  {
   "cell_type": "code",
   "execution_count": 11,
   "metadata": {},
   "outputs": [
    {
     "data": {
      "text/plain": [
       "35"
      ]
     },
     "execution_count": 11,
     "metadata": {},
     "output_type": "execute_result"
    }
   ],
   "source": [
    "vocab = set()\n",
    "\n",
    "for story, question, answer in all_data:\n",
    "    vocab = vocab.union(set(story))\n",
    "    vocab = vocab.union(set(question))\n",
    "len(vocab)"
   ]
  },
  {
   "cell_type": "code",
   "execution_count": 12,
   "metadata": {
    "scrolled": true
   },
   "outputs": [],
   "source": [
    "vocab = vocab.union(set(['yes', 'no']))"
   ]
  },
  {
   "cell_type": "code",
   "execution_count": 13,
   "metadata": {},
   "outputs": [],
   "source": [
    "vocab_len = len(vocab) + 1  #one extra for keras pad-sequences placeholder"
   ]
  },
  {
   "cell_type": "code",
   "execution_count": 14,
   "metadata": {},
   "outputs": [
    {
     "data": {
      "text/plain": [
       "38"
      ]
     },
     "execution_count": 14,
     "metadata": {},
     "output_type": "execute_result"
    }
   ],
   "source": [
    "vocab_len"
   ]
  },
  {
   "cell_type": "code",
   "execution_count": 15,
   "metadata": {},
   "outputs": [],
   "source": [
    "# LONGEST STORY\n",
    "all_story_lengths = [len(data[0]) for data in all_data]\n",
    "\n",
    "# LONGEST QUESTION\n",
    "all_ques_lengths = [len(data[1]) for data in all_data]"
   ]
  },
  {
   "cell_type": "code",
   "execution_count": 16,
   "metadata": {},
   "outputs": [],
   "source": [
    "max_story_len = max(all_story_lengths)"
   ]
  },
  {
   "cell_type": "code",
   "execution_count": 17,
   "metadata": {},
   "outputs": [
    {
     "data": {
      "text/plain": [
       "156"
      ]
     },
     "execution_count": 17,
     "metadata": {},
     "output_type": "execute_result"
    }
   ],
   "source": [
    "max_story_len"
   ]
  },
  {
   "cell_type": "code",
   "execution_count": 18,
   "metadata": {},
   "outputs": [],
   "source": [
    "max_ques_len = max(all_ques_lengths)"
   ]
  },
  {
   "cell_type": "code",
   "execution_count": 19,
   "metadata": {},
   "outputs": [
    {
     "data": {
      "text/plain": [
       "6"
      ]
     },
     "execution_count": 19,
     "metadata": {},
     "output_type": "execute_result"
    }
   ],
   "source": [
    "max_ques_len"
   ]
  },
  {
   "cell_type": "code",
   "execution_count": 20,
   "metadata": {},
   "outputs": [
    {
     "name": "stderr",
     "output_type": "stream",
     "text": [
      "Using TensorFlow backend.\n"
     ]
    }
   ],
   "source": [
    "from keras.preprocessing.sequence import pad_sequences\n",
    "from keras.preprocessing.text import Tokenizer"
   ]
  },
  {
   "cell_type": "code",
   "execution_count": 21,
   "metadata": {},
   "outputs": [],
   "source": [
    "tokenizer = Tokenizer(filters=[])  # default fiter is not required"
   ]
  },
  {
   "cell_type": "code",
   "execution_count": 22,
   "metadata": {},
   "outputs": [],
   "source": [
    "tokenizer.fit_on_texts(vocab)"
   ]
  },
  {
   "cell_type": "code",
   "execution_count": 23,
   "metadata": {},
   "outputs": [
    {
     "data": {
      "text/plain": [
       "[[6, 35, 20, 16, 1, 33, 3, 10, 26, 20, 5, 33], [22, 3, 13, 20, 32, 29], [23]]"
      ]
     },
     "execution_count": 23,
     "metadata": {},
     "output_type": "execute_result"
    }
   ],
   "source": [
    "tokenizer.texts_to_sequences(all_data[0])"
   ]
  },
  {
   "cell_type": "code",
   "execution_count": 24,
   "metadata": {},
   "outputs": [
    {
     "data": {
      "text/plain": [
       "{'there': 1,\n",
       " 'hallway': 2,\n",
       " 'john': 3,\n",
       " 'bathroom': 4,\n",
       " 'bedroom': 5,\n",
       " 'mary': 6,\n",
       " 'office': 7,\n",
       " 'went': 8,\n",
       " 'picked': 9,\n",
       " 'moved': 10,\n",
       " 'dropped': 11,\n",
       " 'discarded': 12,\n",
       " 'in': 13,\n",
       " 'took': 14,\n",
       " 'back': 15,\n",
       " 'milk': 16,\n",
       " 'grabbed': 17,\n",
       " 'down': 18,\n",
       " 'apple': 19,\n",
       " 'the': 20,\n",
       " 'yes': 21,\n",
       " 'is': 22,\n",
       " 'no': 23,\n",
       " 'football': 24,\n",
       " 'up': 25,\n",
       " 'to': 26,\n",
       " 'journeyed': 27,\n",
       " 'sandra': 28,\n",
       " '?': 29,\n",
       " 'left': 30,\n",
       " 'garden': 31,\n",
       " 'kitchen': 32,\n",
       " '.': 33,\n",
       " 'put': 34,\n",
       " 'got': 35,\n",
       " 'daniel': 36,\n",
       " 'travelled': 37}"
      ]
     },
     "execution_count": 24,
     "metadata": {},
     "output_type": "execute_result"
    }
   ],
   "source": [
    "tokenizer.word_index"
   ]
  },
  {
   "cell_type": "code",
   "execution_count": 32,
   "metadata": {},
   "outputs": [],
   "source": [
    "def vectorize_stories(data, word_index=tokenizer.word_index, max_story_len=max_story_len,max_ques_len=max_ques_len):\n",
    "    X = []\n",
    "    Xq = []\n",
    "    Y = []\n",
    "    \n",
    "    for story, question, answer in data:\n",
    "        x = [word_index[word.lower()] for word in story]\n",
    "        xq = [word_index[word.lower()] for word in question]\n",
    "        y = np.zeros(len(word_index) + 1)\n",
    "        \n",
    "        y[word_index[answer]] = 1\n",
    "        \n",
    "        X.append(x)\n",
    "        Xq.append(xq)\n",
    "        Y.append(y)\n",
    "        \n",
    "    return (pad_sequences(X, maxlen=max_story_len), pad_sequences(Xq, maxlen=max_ques_len), np.array(Y))"
   ]
  },
  {
   "cell_type": "code",
   "execution_count": 33,
   "metadata": {},
   "outputs": [],
   "source": [
    "inputs_train, queries_train, answers_train = vectorize_stories(train_data)"
   ]
  },
  {
   "cell_type": "code",
   "execution_count": 34,
   "metadata": {},
   "outputs": [],
   "source": [
    "inputs_test, queries_test, answers_test = vectorize_stories(test_data)"
   ]
  },
  {
   "cell_type": "code",
   "execution_count": 35,
   "metadata": {},
   "outputs": [
    {
     "data": {
      "text/plain": [
       "array([[ 0,  0,  0, ..., 20,  5, 33],\n",
       "       [ 0,  0,  0, ..., 20,  2, 33],\n",
       "       [ 0,  0,  0, ..., 20,  4, 33],\n",
       "       ...,\n",
       "       [ 0,  0,  0, ..., 20,  5, 33],\n",
       "       [ 0,  0,  0, ..., 16,  1, 33],\n",
       "       [ 0,  0,  0, ..., 19,  1, 33]])"
      ]
     },
     "execution_count": 35,
     "metadata": {},
     "output_type": "execute_result"
    }
   ],
   "source": [
    "inputs_train"
   ]
  },
  {
   "cell_type": "code",
   "execution_count": 42,
   "metadata": {},
   "outputs": [
    {
     "data": {
      "text/plain": [
       "(array([  0.,   0.,   0.,   0.,   0.,   0.,   0.,   0.,   0.,   0.,   0.,\n",
       "          0.,   0.,   0.,   0.,   0.,   0.,   0.,   0.,   0.,   0., 497.,\n",
       "          0., 503.,   0.,   0.,   0.,   0.,   0.,   0.,   0.,   0.,   0.,\n",
       "          0.,   0.,   0.,   0.,   0.]), 1000)"
      ]
     },
     "execution_count": 42,
     "metadata": {},
     "output_type": "execute_result"
    }
   ],
   "source": [
    "sum(answers_test), len(answers_test)"
   ]
  },
  {
   "cell_type": "code",
   "execution_count": 37,
   "metadata": {},
   "outputs": [],
   "source": [
    "from keras.models import Sequential, Model\n",
    "from keras.layers.embeddings import Embedding\n",
    "from keras.layers import Dense, LSTM, Input, Activation, Permute, Dropout, add, dot, concatenate"
   ]
  },
  {
   "cell_type": "code",
   "execution_count": 39,
   "metadata": {},
   "outputs": [],
   "source": [
    "# PLCEHOLDER shape=(max_story_len, batch_size)\n",
    "input_sequence = Input((max_story_len, ))\n",
    "question = Input((max_ques_len, ))"
   ]
  },
  {
   "cell_type": "code",
   "execution_count": null,
   "metadata": {},
   "outputs": [],
   "source": [
    "# SAME AS vocab_len\n",
    "vocab_size = len(vocab) + 1"
   ]
  },
  {
   "cell_type": "code",
   "execution_count": 43,
   "metadata": {},
   "outputs": [
    {
     "data": {
      "text/plain": [
       "38"
      ]
     },
     "execution_count": 43,
     "metadata": {},
     "output_type": "execute_result"
    }
   ],
   "source": [
    "vocab_size"
   ]
  },
  {
   "cell_type": "code",
   "execution_count": 46,
   "metadata": {},
   "outputs": [
    {
     "name": "stdout",
     "output_type": "stream",
     "text": [
      "WARNING:tensorflow:From C:\\Users\\kokat\\.conda\\envs\\nlp_course\\lib\\site-packages\\tensorflow\\python\\framework\\op_def_library.py:263: colocate_with (from tensorflow.python.framework.ops) is deprecated and will be removed in a future version.\n",
      "Instructions for updating:\n",
      "Colocations handled automatically by placer.\n",
      "WARNING:tensorflow:From C:\\Users\\kokat\\.conda\\envs\\nlp_course\\lib\\site-packages\\keras\\backend\\tensorflow_backend.py:3445: calling dropout (from tensorflow.python.ops.nn_ops) with keep_prob is deprecated and will be removed in a future version.\n",
      "Instructions for updating:\n",
      "Please use `rate` instead of `keep_prob`. Rate should be set to `rate = 1 - keep_prob`.\n"
     ]
    }
   ],
   "source": [
    "# INPUT ENCODER M\n",
    "input_encoder_m = Sequential()\n",
    "input_encoder_m.add(Embedding(input_dim=vocab_size, output_dim=64))\n",
    "input_encoder_m.add(Dropout(0.3))\n",
    "\n",
    "# OUTPUT\n",
    "# (samples, max_len_story, embedding_dim)"
   ]
  },
  {
   "cell_type": "code",
   "execution_count": 48,
   "metadata": {},
   "outputs": [],
   "source": [
    "# INPUT ENCODER C\n",
    "input_encoder_c = Sequential()\n",
    "input_encoder_c.add(Embedding(input_dim=vocab_size, output_dim=max_ques_len))\n",
    "input_encoder_m.add(Dropout(0.3))\n",
    "\n",
    "# OUTPUT\n",
    "# (samples, max_len_story, max_ques_len)"
   ]
  },
  {
   "cell_type": "code",
   "execution_count": 49,
   "metadata": {},
   "outputs": [],
   "source": [
    "# QUESTION ENCODER\n",
    "question_encoder = Sequential()\n",
    "question_encoder.add(Embedding(input_dim=vocab_size, output_dim=64))\n",
    "question_encoder.add(Dropout(0.3))\n",
    "\n",
    "# OUTPUT\n",
    "# (samples, max_len_story, embedding_dim)"
   ]
  },
  {
   "cell_type": "code",
   "execution_count": null,
   "metadata": {},
   "outputs": [],
   "source": [
    "# ENCODED <--- ENCODER(INPUT)\n",
    "input_encoded_m = input_encoder_m(input_sequence)\n",
    "input_encoded_c = input_encoder_c(input_sequence)\n",
    "question_encoded = question_encoder(question)"
   ]
  },
  {
   "cell_type": "code",
   "execution_count": 57,
   "metadata": {},
   "outputs": [
    {
     "data": {
      "text/plain": [
       "(<tf.Tensor 'sequential_3/dropout_2/cond/Merge:0' shape=(?, 156, 64) dtype=float32>,\n",
       " <tf.Tensor 'sequential_6/dropout_3/cond/Merge:0' shape=(?, 6, 64) dtype=float32>,\n",
       " <tf.Tensor 'sequential_5/embedding_2/embedding_lookup/Identity:0' shape=(?, 156, 6) dtype=float32>)"
      ]
     },
     "execution_count": 57,
     "metadata": {},
     "output_type": "execute_result"
    }
   ],
   "source": [
    "input_encoded_m, question_encoded, input_encoded_c"
   ]
  },
  {
   "cell_type": "code",
   "execution_count": 55,
   "metadata": {},
   "outputs": [],
   "source": [
    "# calculating match between m (Embedding A) and q (Embedding B)\n",
    "\n",
    "match = dot([input_encoded_m, question_encoded], axes=(2,2))\n",
    "match = Activation('softmax')(match)"
   ]
  },
  {
   "cell_type": "code",
   "execution_count": 56,
   "metadata": {},
   "outputs": [
    {
     "data": {
      "text/plain": [
       "<tf.Tensor 'activation_1/truediv:0' shape=(?, 156, 6) dtype=float32>"
      ]
     },
     "execution_count": 56,
     "metadata": {},
     "output_type": "execute_result"
    }
   ],
   "source": [
    "match"
   ]
  },
  {
   "cell_type": "code",
   "execution_count": 58,
   "metadata": {},
   "outputs": [],
   "source": [
    "response = add([input_encoded_c, match])\n",
    "response = Permute((2, 1))(response)"
   ]
  },
  {
   "cell_type": "code",
   "execution_count": 59,
   "metadata": {},
   "outputs": [
    {
     "data": {
      "text/plain": [
       "<tf.Tensor 'permute_1/transpose:0' shape=(?, 6, 156) dtype=float32>"
      ]
     },
     "execution_count": 59,
     "metadata": {},
     "output_type": "execute_result"
    }
   ],
   "source": [
    "response"
   ]
  },
  {
   "cell_type": "code",
   "execution_count": 65,
   "metadata": {},
   "outputs": [],
   "source": [
    "answer = concatenate([response, question_encoded])"
   ]
  },
  {
   "cell_type": "code",
   "execution_count": 66,
   "metadata": {},
   "outputs": [
    {
     "data": {
      "text/plain": [
       "<tf.Tensor 'concatenate_2/concat:0' shape=(?, 6, 220) dtype=float32>"
      ]
     },
     "execution_count": 66,
     "metadata": {},
     "output_type": "execute_result"
    }
   ],
   "source": [
    "answer"
   ]
  },
  {
   "cell_type": "code",
   "execution_count": 67,
   "metadata": {},
   "outputs": [],
   "source": [
    "answer = LSTM(32)(answer)"
   ]
  },
  {
   "cell_type": "code",
   "execution_count": 63,
   "metadata": {},
   "outputs": [],
   "source": [
    "answer = Dropout(0.5)(answer)"
   ]
  },
  {
   "cell_type": "code",
   "execution_count": 68,
   "metadata": {},
   "outputs": [],
   "source": [
    "answer = Dense(vocab_size)(answer) # (samples, vocab_size) YES/NO"
   ]
  },
  {
   "cell_type": "code",
   "execution_count": 69,
   "metadata": {},
   "outputs": [
    {
     "data": {
      "text/plain": [
       "<tf.Tensor 'dense_1/BiasAdd:0' shape=(?, 38) dtype=float32>"
      ]
     },
     "execution_count": 69,
     "metadata": {},
     "output_type": "execute_result"
    }
   ],
   "source": [
    "answer"
   ]
  },
  {
   "cell_type": "code",
   "execution_count": 70,
   "metadata": {},
   "outputs": [],
   "source": [
    "answer = Activation('softmax')(answer)"
   ]
  },
  {
   "cell_type": "code",
   "execution_count": 71,
   "metadata": {},
   "outputs": [],
   "source": [
    "model = Model([input_sequence, question], answer)"
   ]
  },
  {
   "cell_type": "code",
   "execution_count": 72,
   "metadata": {},
   "outputs": [],
   "source": [
    "model.compile(optimizer='rmsprop', loss=\"categorical_crossentropy\", metrics=['accuracy'])"
   ]
  },
  {
   "cell_type": "code",
   "execution_count": 73,
   "metadata": {
    "scrolled": true
   },
   "outputs": [
    {
     "name": "stdout",
     "output_type": "stream",
     "text": [
      "__________________________________________________________________________________________________\n",
      "Layer (type)                    Output Shape         Param #     Connected to                     \n",
      "==================================================================================================\n",
      "input_2 (InputLayer)            (None, 156)          0                                            \n",
      "__________________________________________________________________________________________________\n",
      "input_3 (InputLayer)            (None, 6)            0                                            \n",
      "__________________________________________________________________________________________________\n",
      "sequential_3 (Sequential)       multiple             2432        input_2[0][0]                    \n",
      "__________________________________________________________________________________________________\n",
      "sequential_6 (Sequential)       multiple             2432        input_3[0][0]                    \n",
      "__________________________________________________________________________________________________\n",
      "dot_1 (Dot)                     (None, 156, 6)       0           sequential_3[3][0]               \n",
      "                                                                 sequential_6[1][0]               \n",
      "__________________________________________________________________________________________________\n",
      "sequential_5 (Sequential)       multiple             228         input_2[0][0]                    \n",
      "__________________________________________________________________________________________________\n",
      "activation_1 (Activation)       (None, 156, 6)       0           dot_1[0][0]                      \n",
      "__________________________________________________________________________________________________\n",
      "add_1 (Add)                     (None, 156, 6)       0           sequential_5[3][0]               \n",
      "                                                                 activation_1[0][0]               \n",
      "__________________________________________________________________________________________________\n",
      "permute_1 (Permute)             (None, 6, 156)       0           add_1[0][0]                      \n",
      "__________________________________________________________________________________________________\n",
      "concatenate_2 (Concatenate)     (None, 6, 220)       0           permute_1[0][0]                  \n",
      "                                                                 sequential_6[1][0]               \n",
      "__________________________________________________________________________________________________\n",
      "lstm_3 (LSTM)                   (None, 32)           32384       concatenate_2[0][0]              \n",
      "__________________________________________________________________________________________________\n",
      "dense_1 (Dense)                 (None, 38)           1254        lstm_3[0][0]                     \n",
      "__________________________________________________________________________________________________\n",
      "activation_2 (Activation)       (None, 38)           0           dense_1[0][0]                    \n",
      "==================================================================================================\n",
      "Total params: 38,730\n",
      "Trainable params: 38,730\n",
      "Non-trainable params: 0\n",
      "__________________________________________________________________________________________________\n"
     ]
    }
   ],
   "source": [
    "model.summary()"
   ]
  },
  {
   "cell_type": "code",
   "execution_count": 75,
   "metadata": {},
   "outputs": [
    {
     "name": "stdout",
     "output_type": "stream",
     "text": [
      "WARNING:tensorflow:From C:\\Users\\kokat\\.conda\\envs\\nlp_course\\lib\\site-packages\\tensorflow\\python\\ops\\math_ops.py:3066: to_int32 (from tensorflow.python.ops.math_ops) is deprecated and will be removed in a future version.\n",
      "Instructions for updating:\n",
      "Use tf.cast instead.\n",
      "WARNING:tensorflow:From C:\\Users\\kokat\\.conda\\envs\\nlp_course\\lib\\site-packages\\tensorflow\\python\\ops\\math_grad.py:102: div (from tensorflow.python.ops.math_ops) is deprecated and will be removed in a future version.\n",
      "Instructions for updating:\n",
      "Deprecated in favor of operator or tf.math.divide.\n",
      "Train on 10000 samples, validate on 1000 samples\n",
      "Epoch 1/100\n",
      "10000/10000 [==============================] - 12s 1ms/step - loss: 0.8191 - acc: 0.4975 - val_loss: 0.6940 - val_acc: 0.4970\n",
      "Epoch 2/100\n",
      "10000/10000 [==============================] - 8s 780us/step - loss: 0.6950 - acc: 0.4974 - val_loss: 0.7211 - val_acc: 0.5030\n",
      "Epoch 3/100\n",
      "10000/10000 [==============================] - 8s 783us/step - loss: 0.6955 - acc: 0.5014 - val_loss: 0.6932 - val_acc: 0.4830\n",
      "Epoch 4/100\n",
      "10000/10000 [==============================] - 8s 785us/step - loss: 0.6948 - acc: 0.5051 - val_loss: 0.6942 - val_acc: 0.5030\n",
      "Epoch 5/100\n",
      "10000/10000 [==============================] - 8s 789us/step - loss: 0.6953 - acc: 0.4951 - val_loss: 0.6936 - val_acc: 0.5030\n",
      "Epoch 6/100\n",
      "10000/10000 [==============================] - 8s 789us/step - loss: 0.6951 - acc: 0.5012 - val_loss: 0.6935 - val_acc: 0.5030\n",
      "Epoch 7/100\n",
      "10000/10000 [==============================] - 8s 781us/step - loss: 0.6945 - acc: 0.5109 - val_loss: 0.6937 - val_acc: 0.5020\n",
      "Epoch 8/100\n",
      "10000/10000 [==============================] - 8s 780us/step - loss: 0.6936 - acc: 0.5088 - val_loss: 0.6978 - val_acc: 0.5030\n",
      "Epoch 9/100\n",
      "10000/10000 [==============================] - 8s 780us/step - loss: 0.6912 - acc: 0.5295 - val_loss: 0.6914 - val_acc: 0.5280\n",
      "Epoch 10/100\n",
      "10000/10000 [==============================] - 8s 781us/step - loss: 0.6782 - acc: 0.5703 - val_loss: 0.6734 - val_acc: 0.5760\n",
      "Epoch 11/100\n",
      "10000/10000 [==============================] - 8s 777us/step - loss: 0.6081 - acc: 0.6792 - val_loss: 0.5797 - val_acc: 0.7030\n",
      "Epoch 12/100\n",
      "10000/10000 [==============================] - 8s 781us/step - loss: 0.5229 - acc: 0.7538 - val_loss: 0.4874 - val_acc: 0.7770\n",
      "Epoch 13/100\n",
      "10000/10000 [==============================] - 8s 781us/step - loss: 0.4647 - acc: 0.7914 - val_loss: 0.4256 - val_acc: 0.8060\n",
      "Epoch 14/100\n",
      "10000/10000 [==============================] - 8s 780us/step - loss: 0.4181 - acc: 0.8203 - val_loss: 0.4016 - val_acc: 0.8270\n",
      "Epoch 15/100\n",
      "10000/10000 [==============================] - 8s 786us/step - loss: 0.3898 - acc: 0.8324 - val_loss: 0.3877 - val_acc: 0.8350\n",
      "Epoch 16/100\n",
      "10000/10000 [==============================] - 8s 777us/step - loss: 0.3716 - acc: 0.8431 - val_loss: 0.3838 - val_acc: 0.8370\n",
      "Epoch 17/100\n",
      "10000/10000 [==============================] - 8s 773us/step - loss: 0.3586 - acc: 0.8444 - val_loss: 0.4010 - val_acc: 0.8440\n",
      "Epoch 18/100\n",
      "10000/10000 [==============================] - 9s 892us/step - loss: 0.3511 - acc: 0.8505 - val_loss: 0.3736 - val_acc: 0.8270\n",
      "Epoch 19/100\n",
      "10000/10000 [==============================] - 9s 877us/step - loss: 0.3431 - acc: 0.8482 - val_loss: 0.3689 - val_acc: 0.8350\n",
      "Epoch 20/100\n",
      "10000/10000 [==============================] - 9s 884us/step - loss: 0.3336 - acc: 0.8547 - val_loss: 0.3736 - val_acc: 0.8330\n",
      "Epoch 21/100\n",
      "10000/10000 [==============================] - 9s 881us/step - loss: 0.3300 - acc: 0.8546 - val_loss: 0.4271 - val_acc: 0.8370\n",
      "Epoch 22/100\n",
      "10000/10000 [==============================] - 9s 880us/step - loss: 0.3260 - acc: 0.8571 - val_loss: 0.3961 - val_acc: 0.8460\n",
      "Epoch 23/100\n",
      "10000/10000 [==============================] - 9s 891us/step - loss: 0.3229 - acc: 0.8557 - val_loss: 0.3705 - val_acc: 0.8300\n",
      "Epoch 24/100\n",
      "10000/10000 [==============================] - 9s 890us/step - loss: 0.3212 - acc: 0.8579 - val_loss: 0.3621 - val_acc: 0.8380\n",
      "Epoch 25/100\n",
      "10000/10000 [==============================] - 9s 876us/step - loss: 0.3132 - acc: 0.8600 - val_loss: 0.3635 - val_acc: 0.8260\n",
      "Epoch 26/100\n",
      "10000/10000 [==============================] - 6s 640us/step - loss: 0.3073 - acc: 0.8634 - val_loss: 0.3612 - val_acc: 0.8360\n",
      "Epoch 27/100\n",
      "10000/10000 [==============================] - 8s 755us/step - loss: 0.3088 - acc: 0.8633 - val_loss: 0.3948 - val_acc: 0.8430\n",
      "Epoch 28/100\n",
      "10000/10000 [==============================] - 8s 769us/step - loss: 0.3067 - acc: 0.8657 - val_loss: 0.3624 - val_acc: 0.8380\n",
      "Epoch 29/100\n",
      "10000/10000 [==============================] - 8s 779us/step - loss: 0.3040 - acc: 0.8614 - val_loss: 0.3619 - val_acc: 0.8370\n",
      "Epoch 30/100\n",
      "10000/10000 [==============================] - 8s 769us/step - loss: 0.2998 - acc: 0.8656 - val_loss: 0.3693 - val_acc: 0.8350\n",
      "Epoch 31/100\n",
      "10000/10000 [==============================] - 8s 766us/step - loss: 0.2955 - acc: 0.8676 - val_loss: 0.3543 - val_acc: 0.8390\n",
      "Epoch 32/100\n",
      "10000/10000 [==============================] - 8s 757us/step - loss: 0.2976 - acc: 0.8670 - val_loss: 0.3794 - val_acc: 0.8350\n",
      "Epoch 33/100\n",
      "10000/10000 [==============================] - 8s 752us/step - loss: 0.2899 - acc: 0.8688 - val_loss: 0.3670 - val_acc: 0.8350\n",
      "Epoch 34/100\n",
      "10000/10000 [==============================] - 8s 762us/step - loss: 0.2890 - acc: 0.8716 - val_loss: 0.3596 - val_acc: 0.8380\n",
      "Epoch 35/100\n",
      "10000/10000 [==============================] - 8s 751us/step - loss: 0.2894 - acc: 0.8690 - val_loss: 0.3760 - val_acc: 0.8350\n",
      "Epoch 36/100\n",
      "10000/10000 [==============================] - 8s 756us/step - loss: 0.2851 - acc: 0.8709 - val_loss: 0.3600 - val_acc: 0.8450\n",
      "Epoch 37/100\n",
      "10000/10000 [==============================] - 8s 758us/step - loss: 0.2831 - acc: 0.8746 - val_loss: 0.3656 - val_acc: 0.8300\n",
      "Epoch 38/100\n",
      "10000/10000 [==============================] - 8s 756us/step - loss: 0.2799 - acc: 0.8763 - val_loss: 0.3730 - val_acc: 0.8380\n",
      "Epoch 39/100\n",
      "10000/10000 [==============================] - 8s 755us/step - loss: 0.2773 - acc: 0.8740 - val_loss: 0.3688 - val_acc: 0.8320\n",
      "Epoch 40/100\n",
      "10000/10000 [==============================] - 8s 759us/step - loss: 0.2785 - acc: 0.8759 - val_loss: 0.3761 - val_acc: 0.8310\n",
      "Epoch 41/100\n",
      "10000/10000 [==============================] - 8s 758us/step - loss: 0.2724 - acc: 0.8780 - val_loss: 0.3669 - val_acc: 0.8450\n",
      "Epoch 42/100\n",
      "10000/10000 [==============================] - 8s 752us/step - loss: 0.2683 - acc: 0.8819 - val_loss: 0.4014 - val_acc: 0.8240\n",
      "Epoch 43/100\n",
      "10000/10000 [==============================] - 7s 748us/step - loss: 0.2697 - acc: 0.8780 - val_loss: 0.3841 - val_acc: 0.8340\n",
      "Epoch 44/100\n",
      "10000/10000 [==============================] - 7s 749us/step - loss: 0.2647 - acc: 0.8824 - val_loss: 0.3801 - val_acc: 0.8340\n",
      "Epoch 45/100\n",
      "10000/10000 [==============================] - 8s 751us/step - loss: 0.2589 - acc: 0.8828 - val_loss: 0.3815 - val_acc: 0.8370\n",
      "Epoch 46/100\n",
      "10000/10000 [==============================] - 8s 757us/step - loss: 0.2577 - acc: 0.8852 - val_loss: 0.3848 - val_acc: 0.8360\n",
      "Epoch 47/100\n",
      "10000/10000 [==============================] - 8s 791us/step - loss: 0.2565 - acc: 0.8871 - val_loss: 0.3909 - val_acc: 0.8260\n",
      "Epoch 48/100\n",
      "10000/10000 [==============================] - 7s 736us/step - loss: 0.2538 - acc: 0.8870 - val_loss: 0.3942 - val_acc: 0.8330\n",
      "Epoch 49/100\n",
      "10000/10000 [==============================] - 7s 749us/step - loss: 0.2510 - acc: 0.8876 - val_loss: 0.3899 - val_acc: 0.8330\n",
      "Epoch 50/100\n",
      "10000/10000 [==============================] - 7s 743us/step - loss: 0.2488 - acc: 0.8878 - val_loss: 0.4116 - val_acc: 0.8290\n",
      "Epoch 51/100\n",
      "10000/10000 [==============================] - 7s 734us/step - loss: 0.2459 - acc: 0.8930 - val_loss: 0.3956 - val_acc: 0.8310\n",
      "Epoch 52/100\n",
      "10000/10000 [==============================] - 7s 733us/step - loss: 0.2405 - acc: 0.8925 - val_loss: 0.4012 - val_acc: 0.8280\n",
      "Epoch 53/100\n",
      "10000/10000 [==============================] - 7s 740us/step - loss: 0.2380 - acc: 0.8941 - val_loss: 0.4208 - val_acc: 0.8260\n",
      "Epoch 54/100\n",
      "10000/10000 [==============================] - 8s 750us/step - loss: 0.2333 - acc: 0.8962 - val_loss: 0.4213 - val_acc: 0.8250\n",
      "Epoch 55/100\n"
     ]
    },
    {
     "name": "stdout",
     "output_type": "stream",
     "text": [
      "10000/10000 [==============================] - 8s 807us/step - loss: 0.2329 - acc: 0.8984 - val_loss: 0.4155 - val_acc: 0.8280\n",
      "Epoch 56/100\n",
      "10000/10000 [==============================] - 8s 811us/step - loss: 0.2279 - acc: 0.8984 - val_loss: 0.4327 - val_acc: 0.8310\n",
      "Epoch 57/100\n",
      "10000/10000 [==============================] - 8s 800us/step - loss: 0.2188 - acc: 0.9053 - val_loss: 0.4571 - val_acc: 0.8310\n",
      "Epoch 58/100\n",
      "10000/10000 [==============================] - 8s 806us/step - loss: 0.2180 - acc: 0.9037 - val_loss: 0.4479 - val_acc: 0.8190\n",
      "Epoch 59/100\n",
      "10000/10000 [==============================] - 8s 796us/step - loss: 0.2132 - acc: 0.9064 - val_loss: 0.4669 - val_acc: 0.8280 0.215 - ETA: 1s - lo\n",
      "Epoch 60/100\n",
      "10000/10000 [==============================] - 8s 796us/step - loss: 0.2092 - acc: 0.9100 - val_loss: 0.4695 - val_acc: 0.8230\n",
      "Epoch 61/100\n",
      "10000/10000 [==============================] - 8s 797us/step - loss: 0.2073 - acc: 0.9121 - val_loss: 0.4580 - val_acc: 0.8160\n",
      "Epoch 62/100\n",
      "10000/10000 [==============================] - 8s 797us/step - loss: 0.2001 - acc: 0.9117 - val_loss: 0.4384 - val_acc: 0.8230\n",
      "Epoch 63/100\n",
      "10000/10000 [==============================] - 8s 789us/step - loss: 0.2006 - acc: 0.9161 - val_loss: 0.4622 - val_acc: 0.8220\n",
      "Epoch 64/100\n",
      "10000/10000 [==============================] - 8s 796us/step - loss: 0.1952 - acc: 0.9172 - val_loss: 0.4667 - val_acc: 0.8190\n",
      "Epoch 65/100\n",
      "10000/10000 [==============================] - 8s 795us/step - loss: 0.1875 - acc: 0.9200 - val_loss: 0.4884 - val_acc: 0.8180\n",
      "Epoch 66/100\n",
      "10000/10000 [==============================] - 8s 769us/step - loss: 0.1873 - acc: 0.9208 - val_loss: 0.4904 - val_acc: 0.8180\n",
      "Epoch 67/100\n",
      "10000/10000 [==============================] - 8s 770us/step - loss: 0.1805 - acc: 0.9228 - val_loss: 0.5103 - val_acc: 0.8190\n",
      "Epoch 68/100\n",
      "10000/10000 [==============================] - 8s 791us/step - loss: 0.1795 - acc: 0.9246 - val_loss: 0.4937 - val_acc: 0.8170\n",
      "Epoch 69/100\n",
      "10000/10000 [==============================] - 8s 810us/step - loss: 0.1750 - acc: 0.9268 - val_loss: 0.5230 - val_acc: 0.8060\n",
      "Epoch 70/100\n",
      "10000/10000 [==============================] - 8s 778us/step - loss: 0.1731 - acc: 0.9272 - val_loss: 0.5025 - val_acc: 0.8090\n",
      "Epoch 71/100\n",
      "10000/10000 [==============================] - 8s 756us/step - loss: 0.1679 - acc: 0.9313 - val_loss: 0.5251 - val_acc: 0.8020\n",
      "Epoch 72/100\n",
      "10000/10000 [==============================] - 8s 758us/step - loss: 0.1603 - acc: 0.9350 - val_loss: 0.5470 - val_acc: 0.8150\n",
      "Epoch 73/100\n",
      "10000/10000 [==============================] - 8s 766us/step - loss: 0.1579 - acc: 0.9353 - val_loss: 0.5703 - val_acc: 0.8020\n",
      "Epoch 74/100\n",
      "10000/10000 [==============================] - 8s 769us/step - loss: 0.1521 - acc: 0.9382 - val_loss: 0.5308 - val_acc: 0.8120\n",
      "Epoch 75/100\n",
      "10000/10000 [==============================] - 8s 815us/step - loss: 0.1486 - acc: 0.9410 - val_loss: 0.5785 - val_acc: 0.8060\n",
      "Epoch 76/100\n",
      "10000/10000 [==============================] - 8s 809us/step - loss: 0.1490 - acc: 0.9400 - val_loss: 0.5515 - val_acc: 0.8050\n",
      "Epoch 77/100\n",
      "10000/10000 [==============================] - 8s 780us/step - loss: 0.1438 - acc: 0.9427 - val_loss: 0.5802 - val_acc: 0.8050\n",
      "Epoch 78/100\n",
      "10000/10000 [==============================] - 8s 792us/step - loss: 0.1422 - acc: 0.9435 - val_loss: 0.6063 - val_acc: 0.8110\n",
      "Epoch 79/100\n",
      "10000/10000 [==============================] - 8s 792us/step - loss: 0.1365 - acc: 0.9463 - val_loss: 0.6153 - val_acc: 0.8120\n",
      "Epoch 80/100\n",
      "10000/10000 [==============================] - 8s 786us/step - loss: 0.1302 - acc: 0.9480 - val_loss: 0.5800 - val_acc: 0.8080\n",
      "Epoch 81/100\n",
      "10000/10000 [==============================] - 8s 760us/step - loss: 0.1307 - acc: 0.9495 - val_loss: 0.6265 - val_acc: 0.8020\n",
      "Epoch 82/100\n",
      "10000/10000 [==============================] - 8s 754us/step - loss: 0.1249 - acc: 0.9532 - val_loss: 0.6161 - val_acc: 0.8050\n",
      "Epoch 83/100\n",
      "10000/10000 [==============================] - 8s 785us/step - loss: 0.1241 - acc: 0.9534 - val_loss: 0.6298 - val_acc: 0.8050\n",
      "Epoch 84/100\n",
      "10000/10000 [==============================] - 9s 873us/step - loss: 0.1203 - acc: 0.9542 - val_loss: 0.6553 - val_acc: 0.7880\n",
      "Epoch 85/100\n",
      "10000/10000 [==============================] - 9s 911us/step - loss: 0.1158 - acc: 0.9564 - val_loss: 0.6353 - val_acc: 0.8010\n",
      "Epoch 86/100\n",
      "10000/10000 [==============================] - 9s 945us/step - loss: 0.1122 - acc: 0.9571 - val_loss: 0.6391 - val_acc: 0.8000\n",
      "Epoch 87/100\n",
      "10000/10000 [==============================] - 8s 766us/step - loss: 0.1094 - acc: 0.9585 - val_loss: 0.6653 - val_acc: 0.8080\n",
      "Epoch 88/100\n",
      "10000/10000 [==============================] - 8s 764us/step - loss: 0.1077 - acc: 0.9605 - val_loss: 0.6724 - val_acc: 0.8050\n",
      "Epoch 89/100\n",
      "10000/10000 [==============================] - 7s 744us/step - loss: 0.1051 - acc: 0.9606 - val_loss: 0.6849 - val_acc: 0.8010\n",
      "Epoch 90/100\n",
      "10000/10000 [==============================] - 8s 787us/step - loss: 0.0996 - acc: 0.9621 - val_loss: 0.6779 - val_acc: 0.8050\n",
      "Epoch 91/100\n",
      "10000/10000 [==============================] - 9s 894us/step - loss: 0.1009 - acc: 0.9611 - val_loss: 0.7341 - val_acc: 0.8090\n",
      "Epoch 92/100\n",
      "10000/10000 [==============================] - 8s 750us/step - loss: 0.0972 - acc: 0.9653 - val_loss: 0.7335 - val_acc: 0.8080\n",
      "Epoch 93/100\n",
      "10000/10000 [==============================] - 8s 752us/step - loss: 0.0969 - acc: 0.9651 - val_loss: 0.7105 - val_acc: 0.8010\n",
      "Epoch 94/100\n",
      "10000/10000 [==============================] - 7s 745us/step - loss: 0.0936 - acc: 0.9656 - val_loss: 0.7171 - val_acc: 0.7890\n",
      "Epoch 95/100\n",
      "10000/10000 [==============================] - 8s 775us/step - loss: 0.0903 - acc: 0.9679 - val_loss: 0.7353 - val_acc: 0.8010\n",
      "Epoch 96/100\n",
      "10000/10000 [==============================] - 8s 768us/step - loss: 0.0914 - acc: 0.9667 - val_loss: 0.7681 - val_acc: 0.7880\n",
      "Epoch 97/100\n",
      "10000/10000 [==============================] - 8s 769us/step - loss: 0.0877 - acc: 0.9681 - val_loss: 0.7639 - val_acc: 0.8110\n",
      "Epoch 98/100\n",
      "10000/10000 [==============================] - 8s 776us/step - loss: 0.0859 - acc: 0.9688 - val_loss: 0.7528 - val_acc: 0.8070\n",
      "Epoch 99/100\n",
      "10000/10000 [==============================] - 8s 777us/step - loss: 0.0799 - acc: 0.9710 - val_loss: 0.7778 - val_acc: 0.8100\n",
      "Epoch 100/100\n",
      "10000/10000 [==============================] - 8s 774us/step - loss: 0.0826 - acc: 0.9704 - val_loss: 0.7715 - val_acc: 0.8040\n"
     ]
    }
   ],
   "source": [
    "history = model.fit([inputs_train, queries_train], answers_train, batch_size=32, epochs=100, validation_data=([inputs_test, queries_test], answers_test))"
   ]
  },
  {
   "cell_type": "code",
   "execution_count": 76,
   "metadata": {},
   "outputs": [],
   "source": [
    "model.save('my_trained_model.h5')"
   ]
  },
  {
   "cell_type": "code",
   "execution_count": 77,
   "metadata": {},
   "outputs": [
    {
     "name": "stdout",
     "output_type": "stream",
     "text": [
      "dict_keys(['val_loss', 'val_acc', 'loss', 'acc'])\n"
     ]
    },
    {
     "data": {
      "image/png": "[encoded data removed]",
      "text/plain": [
       "<Figure size 432x288 with 1 Axes>"
      ]
     },
     "metadata": {
      "needs_background": "light"
     },
     "output_type": "display_data"
    }
   ],
   "source": [
    "import matplotlib.pyplot as plt\n",
    "\n",
    "print(history.history.keys())\n",
    "#Summarize history for accuracy\n",
    "plt.plot(history.history['acc'])\n",
    "plt.plot(history.history['val_acc'])\n",
    "plt.title('model accuracy')\n",
    "plt.ylabel('accuracy')\n",
    "plt.xlabel('epoch')\n",
    "plt.legend(['train', 'test'], loc='upper left')\n",
    "plt.show()"
   ]
  },
  {
   "cell_type": "code",
   "execution_count": 171,
   "metadata": {},
   "outputs": [],
   "source": [
    "model.load_weights('my_trained_model.h5')"
   ]
  },
  {
   "cell_type": "code",
   "execution_count": 172,
   "metadata": {},
   "outputs": [],
   "source": [
    "pred_results = model.predict(([inputs_test, queries_test]))"
   ]
  },
  {
   "cell_type": "code",
   "execution_count": 173,
   "metadata": {},
   "outputs": [],
   "source": [
    "val_max = np.argmax(pred_results[0])"
   ]
  },
  {
   "cell_type": "code",
   "execution_count": 174,
   "metadata": {},
   "outputs": [],
   "source": [
    "for key, val in tokenizer.word_index.items():\n",
    "    if val == val_max:\n",
    "        k = key"
   ]
  },
  {
   "cell_type": "code",
   "execution_count": 175,
   "metadata": {},
   "outputs": [
    {
     "data": {
      "text/plain": [
       "'no'"
      ]
     },
     "execution_count": 175,
     "metadata": {},
     "output_type": "execute_result"
    }
   ],
   "source": [
    "k"
   ]
  },
  {
   "cell_type": "code",
   "execution_count": 176,
   "metadata": {},
   "outputs": [
    {
     "data": {
      "text/plain": [
       "0.9999976"
      ]
     },
     "execution_count": 176,
     "metadata": {},
     "output_type": "execute_result"
    }
   ],
   "source": [
    "pred_results[0][val_max]"
   ]
  },
  {
   "cell_type": "code",
   "execution_count": 177,
   "metadata": {},
   "outputs": [
    {
     "data": {
      "text/plain": [
       "{'.',\n",
       " '?',\n",
       " 'Daniel',\n",
       " 'Is',\n",
       " 'John',\n",
       " 'Mary',\n",
       " 'Sandra',\n",
       " 'apple',\n",
       " 'back',\n",
       " 'bathroom',\n",
       " 'bedroom',\n",
       " 'discarded',\n",
       " 'down',\n",
       " 'dropped',\n",
       " 'football',\n",
       " 'garden',\n",
       " 'got',\n",
       " 'grabbed',\n",
       " 'hallway',\n",
       " 'in',\n",
       " 'journeyed',\n",
       " 'kitchen',\n",
       " 'left',\n",
       " 'milk',\n",
       " 'moved',\n",
       " 'no',\n",
       " 'office',\n",
       " 'picked',\n",
       " 'put',\n",
       " 'the',\n",
       " 'there',\n",
       " 'to',\n",
       " 'took',\n",
       " 'travelled',\n",
       " 'up',\n",
       " 'went',\n",
       " 'yes'}"
      ]
     },
     "execution_count": 177,
     "metadata": {},
     "output_type": "execute_result"
    }
   ],
   "source": [
    "# NOW WE'LL TEST THE MODEL WITH OUR VERY OWN STORY\n",
    "#NOTE: As the model has been trained on the vocab of just 38 words, we'll have to create the story with the words in vocab\n",
    "\n",
    "vocab"
   ]
  },
  {
   "cell_type": "code",
   "execution_count": 201,
   "metadata": {},
   "outputs": [],
   "source": [
    "my_story = \"Mary journeyed to the kitchen . Mary picked apple . Daniel journeyed to the bedroom .\"\n",
    "my_ques = \"Is Daniel in the bedroom ?\""
   ]
  },
  {
   "cell_type": "code",
   "execution_count": 202,
   "metadata": {},
   "outputs": [],
   "source": [
    "mydata = [(my_story.split(), my_ques.split(), 'yes')]"
   ]
  },
  {
   "cell_type": "code",
   "execution_count": 203,
   "metadata": {},
   "outputs": [
    {
     "data": {
      "text/plain": [
       "[(['Mary',\n",
       "   'journeyed',\n",
       "   'to',\n",
       "   'the',\n",
       "   'kitchen',\n",
       "   '.',\n",
       "   'Mary',\n",
       "   'picked',\n",
       "   'apple',\n",
       "   '.',\n",
       "   'Daniel',\n",
       "   'journeyed',\n",
       "   'to',\n",
       "   'the',\n",
       "   'bedroom',\n",
       "   '.'],\n",
       "  ['Is', 'Daniel', 'in', 'the', 'bedroom', '?'],\n",
       "  'yes')]"
      ]
     },
     "execution_count": 203,
     "metadata": {},
     "output_type": "execute_result"
    }
   ],
   "source": [
    "mydata"
   ]
  },
  {
   "cell_type": "code",
   "execution_count": 204,
   "metadata": {},
   "outputs": [],
   "source": [
    "my_story,my_ques,my_ans = vectorize_stories(mydata)"
   ]
  },
  {
   "cell_type": "code",
   "execution_count": 205,
   "metadata": {},
   "outputs": [],
   "source": [
    "pred_ans = model.predict(([my_story, my_ques]))"
   ]
  },
  {
   "cell_type": "code",
   "execution_count": 206,
   "metadata": {},
   "outputs": [],
   "source": [
    "val_max = np.argmax(pred_ans)"
   ]
  },
  {
   "cell_type": "code",
   "execution_count": 207,
   "metadata": {},
   "outputs": [
    {
     "name": "stdout",
     "output_type": "stream",
     "text": [
      "Predicted answer is:  yes\n",
      "Probability of certainty was:  2.3639561e-06\n"
     ]
    }
   ],
   "source": [
    "#Generate prediction from model\n",
    "val_max = np.argmax(pred_ans[0])\n",
    "\n",
    "for key, val in tokenizer.word_index.items():\n",
    "    if val == val_max:\n",
    "        k = key\n",
    "\n",
    "print(\"Predicted answer is: \", k)\n",
    "print(\"Probability of certainty was: \", pred_results[0][val_max])"
   ]
  },
  {
   "cell_type": "code",
   "execution_count": null,
   "metadata": {},
   "outputs": [],
   "source": []
  },
  {
   "cell_type": "code",
   "execution_count": null,
   "metadata": {},
   "outputs": [],
   "source": []
  }
 ],
 "metadata": {
  "kernelspec": {
   "display_name": "Python 3",
   "language": "python",
   "name": "python3"
  },
  "language_info": {
   "codemirror_mode": {
    "name": "ipython",
    "version": 3
   },
   "file_extension": ".py",
   "mimetype": "text/x-python",
   "name": "python",
   "nbconvert_exporter": "python",
   "pygments_lexer": "ipython3",
   "version": "3.7.5"
  }
 },
 "nbformat": 4,
 "nbformat_minor": 2
}
